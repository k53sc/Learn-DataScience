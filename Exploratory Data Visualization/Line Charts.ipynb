{
 "cells": [
  {
   "cell_type": "markdown",
   "metadata": {},
   "source": [
    "# 1: Representation Of Data\n",
    "\n",
    "So far, we've mostly been manipulating and working with data that are represented as tables. Microsoft Excel, the pandas library in Python, and the CSV file format for datasets were all developed around this representation. Because a table neatly organizes values into rows and columns, we can easily look up specific values at the intersection of a row value and a colum value. Unfortunately, it's very difficult to explore a dataset to uncover patterns when it's represented as a table, especially when that dataset contains many values. We need a different representation of data that can help us identify patterns more easily.\n",
    "\n",
    "In this mission, we'll learn the basics of data visualization, a discipline that focuses on the visual representation of data. As humans, our brains have evolved to develop powerful visual processing capabilities. We can quickly find patterns in the visual information we encounter, which was incredibly important from a survivability standpoint. Unfortunately, when data is represented as tables of values, we can't really take advantage of our visual pattern matching capabilities. This is because our ability to quickly process symbolic values (like numbers and words) is very poor. Data visualization focuses on transforming data from table representations visual ones.\n",
    "\n",
    "In this course, named Exploratory Data Visualization, we'll focus on data visualization techniques to explore datasets and help us uncover patterns. In this mission, we'll use a specific type of data visualization to understand U.S. unemployment data."
   ]
  },
  {
   "cell_type": "markdown",
   "metadata": {},
   "source": [
    "# 2: Introduction To The Data\n",
    "\n",
    "The United States Bureau of Labor Statistics (BLS) surveys and calculates the monthly unemployment rate. The unemployment rate is the percentage of individuals in the labor force without a job. While unemployment rate isn't perfect, it's a commonly used proxy for the health of the economy. You may have heard politicians and reporters state the unemployment rate when commenting on the economy. You can read more about how the BLS calculates the unemployment rate here.\n",
    "\n",
    "The BLS releases monthly unemployment data available for download as an Excel file, with the .xlsx file extension. While the pandas library can read in XLSX files, it relies on an external library for actually parsing the format. Let's instead download the same dataset as a CSV file from the website of the Federal Reserve Bank of St. Louis. We've downloaded the monthly unemployment rate as a CSV from January 1948 to August 2016, saved it as unrate.csv, and made it available in this mission.\n",
    "\n",
    "To download this dataset on your own, head to the Federal Reserve Bank of St. Louis's website, select Text, Comma Separated as the File Format, make sure the Date Range field starts at 1948-01-01 and ends at 2016-08-01. If these options are no longer present and the website has been changed because this mission was written, please let us know and we'll update the instructions!\n",
    "\n",
    "Before we get into visual representations of data, let's first read this CSV file into pandas to explore the table representation of this data. The dataset we'll be working with is a time series dataset, which means the data points (monthly unemployment rates) are ordered by time. Here's a preview of the dataset:\n",
    "\n",
    "    DATE \tVALUE\n",
    "    1948-01-01 \t3.4\n",
    "    1948-02-01 \t3.8\n",
    "    1948-03-01 \t4.0\n",
    "    1948-04-01 \t3.9\n",
    "    1948-05-01 \t3.5\n",
    "\n",
    "When we read the dataset into a DataFrame, pandas will set the data type of the DATE column as a text column. Because of how pandas reads in strings internally, this column is given a data type of object. We need to convert this column to the datetime type using the pandas.to_datetime() function, which returns a Series object with the datetime data type that we can assign back to the DataFrame:\n",
    "\n",
    "    import pandas as pd\n",
    "\n",
    "    df['col'] = pd.to_datetime(df['col'])"
   ]
  },
  {
   "cell_type": "code",
   "execution_count": 4,
   "metadata": {
    "collapsed": false
   },
   "outputs": [],
   "source": [
    "import pandas as pd\n",
    "\n",
    "unrate = pd.read_csv( \"../data/UNRATE.csv\")"
   ]
  },
  {
   "cell_type": "markdown",
   "metadata": {},
   "source": [
    "# 3: Introduction To The Data\n",
    "\n",
    "## Instructions\n",
    "\n",
    "Read unrate.csv into a DataFrame and assign to unrate.\n",
    "\n",
    "Use the pandas.to_datetime function to convert the DATE column into a series of datetime values.\n",
    "\n",
    "Display the first 12 rows in unrate.\n"
   ]
  },
  {
   "cell_type": "code",
   "execution_count": 6,
   "metadata": {
    "collapsed": false
   },
   "outputs": [
    {
     "data": {
      "text/html": [
       "<div>\n",
       "<table border=\"1\" class=\"dataframe\">\n",
       "  <thead>\n",
       "    <tr style=\"text-align: right;\">\n",
       "      <th></th>\n",
       "      <th>DATE</th>\n",
       "      <th>UNRATE</th>\n",
       "    </tr>\n",
       "  </thead>\n",
       "  <tbody>\n",
       "    <tr>\n",
       "      <th>0</th>\n",
       "      <td>1948-01-01</td>\n",
       "      <td>3.4</td>\n",
       "    </tr>\n",
       "    <tr>\n",
       "      <th>1</th>\n",
       "      <td>1948-02-01</td>\n",
       "      <td>3.8</td>\n",
       "    </tr>\n",
       "    <tr>\n",
       "      <th>2</th>\n",
       "      <td>1948-03-01</td>\n",
       "      <td>4.0</td>\n",
       "    </tr>\n",
       "    <tr>\n",
       "      <th>3</th>\n",
       "      <td>1948-04-01</td>\n",
       "      <td>3.9</td>\n",
       "    </tr>\n",
       "    <tr>\n",
       "      <th>4</th>\n",
       "      <td>1948-05-01</td>\n",
       "      <td>3.5</td>\n",
       "    </tr>\n",
       "    <tr>\n",
       "      <th>5</th>\n",
       "      <td>1948-06-01</td>\n",
       "      <td>3.6</td>\n",
       "    </tr>\n",
       "    <tr>\n",
       "      <th>6</th>\n",
       "      <td>1948-07-01</td>\n",
       "      <td>3.6</td>\n",
       "    </tr>\n",
       "    <tr>\n",
       "      <th>7</th>\n",
       "      <td>1948-08-01</td>\n",
       "      <td>3.9</td>\n",
       "    </tr>\n",
       "    <tr>\n",
       "      <th>8</th>\n",
       "      <td>1948-09-01</td>\n",
       "      <td>3.8</td>\n",
       "    </tr>\n",
       "    <tr>\n",
       "      <th>9</th>\n",
       "      <td>1948-10-01</td>\n",
       "      <td>3.7</td>\n",
       "    </tr>\n",
       "    <tr>\n",
       "      <th>10</th>\n",
       "      <td>1948-11-01</td>\n",
       "      <td>3.8</td>\n",
       "    </tr>\n",
       "    <tr>\n",
       "      <th>11</th>\n",
       "      <td>1948-12-01</td>\n",
       "      <td>4.0</td>\n",
       "    </tr>\n",
       "  </tbody>\n",
       "</table>\n",
       "</div>"
      ],
      "text/plain": [
       "         DATE  UNRATE\n",
       "0  1948-01-01     3.4\n",
       "1  1948-02-01     3.8\n",
       "2  1948-03-01     4.0\n",
       "3  1948-04-01     3.9\n",
       "4  1948-05-01     3.5\n",
       "5  1948-06-01     3.6\n",
       "6  1948-07-01     3.6\n",
       "7  1948-08-01     3.9\n",
       "8  1948-09-01     3.8\n",
       "9  1948-10-01     3.7\n",
       "10 1948-11-01     3.8\n",
       "11 1948-12-01     4.0"
      ]
     },
     "execution_count": 6,
     "metadata": {},
     "output_type": "execute_result"
    }
   ],
   "source": [
    "unrate[\"DATE\"] = pd.to_datetime( unrate[\"DATE\"])\n",
    "unrate.head( 12 )"
   ]
  },
  {
   "cell_type": "markdown",
   "metadata": {},
   "source": [
    "# 4: Table Representation\n",
    "\n",
    "The dataset contains 2 columns:\n",
    "\n",
    "    DATE: date, always the first of the month. Here are some examples:\n",
    "        1948-01-01: January 1, 1948.\n",
    "        1948-02-01: February 1, 1948.\n",
    "        1948-03-01: March 1, 1948.\n",
    "        1948-12-01: December 1, 1948.\n",
    "    VALUE: the corresponding unemployment rate, in percent.\n",
    "\n",
    "The first 12 rows reflect the unemployment rate from January 1948 to December 1948:\n",
    "\n",
    "```\n",
    "DATE \tVALUE\n",
    "1948-01-01 \t3.4\n",
    "1948-02-01 \t3.8\n",
    "1948-03-01 \t4.0\n",
    "1948-04-01 \t3.9\n",
    "1948-05-01 \t3.5\n",
    "1948-06-01 \t3.6\n",
    "1948-07-01 \t3.6\n",
    "1948-08-01 \t3.9\n",
    "1948-09-01 \t3.8\n",
    "1948-10-01 \t3.7\n",
    "1948-11-01 \t3.8\n",
    "1948-12-01 \t4.0\n",
    "```\n",
    "\n",
    "Take a minute to visually scan the table and observe how the monthly unemployment rate has changed over time. When you're finished, head to the next step in this mission."
   ]
  },
  {
   "cell_type": "markdown",
   "metadata": {},
   "source": [
    "# 5: Observations From The Table Representation\n",
    "\n",
    "We can make the following observations from the table:\n",
    "\n",
    "    In 1948:\n",
    "        monthly unemployment rate ranged between 3.4 and 4.0.\n",
    "        highest unemployment rate was reached in both March and December.\n",
    "        lowest unemployment rate was reached in January.\n",
    "    From January to March, unemployment rate trended up.\n",
    "    From March to May, unemployment rate trended down.\n",
    "    From May to August, unemployment rate trended up.\n",
    "    From August to October, unemployment rate trended down.\n",
    "    From October to December, unemployment rate trended up.\n",
    "\n",
    "Because the table only contained the data from 1948, it didn't take too much time to identify these observations. If we scale up the table to include all 824 rows, it would be very time-consuming and painful to understand. Tables shine at presenting information precisely at the intersection of rows and columns and allow us to perform quick lookups when we know the row and column we're interested in. In addition, problems that involve comparing values between adjacent rows or columns are well suited for tables. Unfortunately, many problems you'll encounter in data science require comparisons that aren't possible with just tables.\n",
    "\n",
    "For example, one thing we learned from looking at the monthly unemployment rates for 1948 is that every few months, the unemployment rate switches between trending up and trending down. It's not switching direction every month, however, and this could mean that there's a seasonal effect. Seasonality is when a pattern is observed on a regular, predictable basis for a specific reason. A simple example of seasonality would be a large increase textbook purchases every August every year. Many schools start their terms in August and this spike in textbook sales is directly linked.\n",
    "\n",
    "We need to first understand if there's any seasonality by comparing the unemployment trends across many years so we can decide if we should investigate it further. The faster we're able to assess our data, the faster we can perform high-level analysis quickly. If we're reliant on just the table to help us figure this out, then we won't be able to perform a high level test quickly. Let's see how a visual representation of the same information can be more helpful than the table representation."
   ]
  },
  {
   "cell_type": "markdown",
   "metadata": {},
   "source": [
    "# 6: Visual Representation\n",
    "\n",
    "Instead of representing data using text like tables do, visual representations use visual objects like dots, shapes, and lines on a grid. Plots are a category of visual representations that allow us to easily understand the relationships between variables. There are many types of plots and selecting the right one is an important skill that you'll hone as you create data visualizations. Because we want to compare the unemployment trends across time, we should use line charts."
   ]
  },
  {
   "cell_type": "markdown",
   "metadata": {},
   "source": [
    "# 7: Introduction to Matplotlib\n",
    "\n",
    "To create the line chart, we'll use the matplotlib library, which allows us to:\n",
    "\n",
    "    quickly create common plots using high-level functions\n",
    "    extensively tweak plots\n",
    "    create new kinds of plots from the ground up\n",
    "\n",
    "To help you become familiar with matplotlib, we'll focus on the first 2 use cases. When working with commonly used plots in matplotlib, the general workflow is:\n",
    "\n",
    "    create a plot using data\n",
    "    customize the appearance of the plot\n",
    "    display the plot\n",
    "    edit and repeat until satisfied\n",
    "\n",
    "This interactive style aligns well with the exploratory workflow of data visualization because we're asking questions and creating data visualizations to help us get answers. The pyplot module provides a high-level interface for matplotlib that allows us to quickly create common data plots and perform common tweaks to them.\n",
    "\n",
    "The pyplot module is commonly imported as plt from matplotlib:\n",
    "\n",
    "    import matplotlib.pyplot as plt\n",
    "\n",
    "Using the different pyplot functions, we can create, customize, and display a plot. For example, we can use 2 functions to :\n",
    "\n",
    "    plt.plot()\n",
    "\n",
    "    plt.show()\n",
    "\n",
    "Because we didn't pass in any arguments, the plot() function would generate an empty plot with just the axes and ticks and the show() function would display that plot. You'll notice that we didn't assign the plot to a variable and then call a method on the variable to display it. We instead called 2 functions on the pyplot module directly.\n",
    "\n",
    "This is because every time we call a pyplot function, the module maintains and updates the plot internally (also known as state). When we call show(), the plot is displayed and the internal state is destroyed. While this workflow isn't ideal when we're writing functions that create plots on a repeated basis as part of a larger application, it's useful when exploring data.\n",
    "\n",
    "Let's run this code to see the default properties matplotlib uses. If you'd like to follow along on your own computer, we recommend installing matplotlib using Anaconda: conda install matplotlib. We recommend working with matplotlib using Jupyter Notebook because it can render the plots in the notebook itself. You will need to run the following Jupyter magic in a code cell each time you open your notebook: %matplotlib inline. Whenever you call show(), the plots will be displayed in the output cell. You can read more here.\n",
    "\n",
    "## Instructions\n",
    "\n",
    "    Generate an empty plot using plt.plot() and display it using plt.show().\n"
   ]
  },
  {
   "cell_type": "code",
   "execution_count": 7,
   "metadata": {
    "collapsed": false
   },
   "outputs": [
    {
     "data": {
      "image/png": "[encoded data removed]",
      "text/plain": [
       "<matplotlib.figure.Figure at 0x7f89a62dc6d0>"
      ]
     },
     "metadata": {},
     "output_type": "display_data"
    }
   ],
   "source": [
    "import matplotlib.pyplot as plt\n",
    "plt.plot()\n",
    "plt.show()"
   ]
  },
  {
   "cell_type": "markdown",
   "metadata": {},
   "source": [
    "# 8: Adding Data\n",
    "\n",
    "By default, Matplotlib displayed a coordinate grid with:\n",
    "\n",
    "    the x-axis and y-axis values ranging from -0.06 to 0.06\n",
    "    no grid lines\n",
    "    no data\n",
    "\n",
    "Even though no data was plotted, the x-axis and y-axis ticks corresponding to the -0.06 to 0.06 value range. The axis ticks consist of tick marks and tick labels. Here's a focused view of the x-axis tick marks and x-axis tick labels:\n",
    "\n",
    "Axis Ticks\n",
    "\n",
    "To create a line chart of the unemployment data from 1948, we need:\n",
    "\n",
    "    the x-axis to range from 01-01-1948 to 12-01-1948 (which corresponds to the first and last months in 1948)\n",
    "    the y-axis to range from 3.4 to 4.0 (which correspond to the minimum and maximum unemployment values)\n",
    "\n",
    "Instead of manually updating the ticks, drawing each marker, and connecting the markers with lines, we can just specify the data we want plotted and let matplotlib handle the rest. To generate the line chart we're interested in, we pass in the list of x-values as the first parameter and the list of y-values as the second parameter to plot():\n",
    "\n",
    "plt.plot(x_values, y_values)\n",
    "\n",
    "Matplotlib will accept any iterable object, like NumPy arrays and pandas.Series instances.\n",
    "\n",
    "## Instructions\n",
    "\n",
    "    Generate a line chart that visualizes the unemployment rates from 1948:\n",
    "        x-values should be the first 12 values in the DATE column\n",
    "        y-values should be the first 12 values in the VALUE column\n",
    "\n",
    "    Display the plot"
   ]
  },
  {
   "cell_type": "code",
   "execution_count": 9,
   "metadata": {
    "collapsed": false
   },
   "outputs": [
    {
     "data": {
      "image/png": "[encoded data removed]",
      "text/plain": [
       "<matplotlib.figure.Figure at 0x7f89a1632e50>"
      ]
     },
     "metadata": {},
     "output_type": "display_data"
    }
   ],
   "source": [
    "plt.plot( unrate[\"DATE\"], unrate[\"UNRATE\"] )\n",
    "plt.show()"
   ]
  },
  {
   "cell_type": "markdown",
   "metadata": {},
   "source": [
    "# 9: Fixing Axis Ticks\n",
    "\n",
    "While the y-axis looks fine, the x-axis tick labels are too close together and are unreadable. The line charts from earlier in the mission suggest a better way to display the x-axis tick labels:\n",
    "\n",
    "Unemployment Line Plot\n",
    "\n",
    "We can rotate the x-axis tick labels by 90 degrees so they don't overlap. The xticks() function within pyplot lets you customize the behavior of the x-axis ticks. If you head over to the documentation for that function, it's not immediately obvious the arguments it takes:\n",
    "\n",
    "    matplotlib.pyplot.xticks(*args, **kwargs)\n",
    "\n",
    "In the documentation for the function, you'll see a link to the matplotlib Text class, which is what pyplot uses to represent the x-axis tick labels. You'll notice that there's a rotation parameter that accepts degrees of rotation as a parameter. We can specify degrees of rotation using a float or integer value.\n",
    "\n",
    "As a side note, if you read the documentation for pyplot, you'll notice that many functions for tweaking the x-axis have matching functions for the y-axis. For example, the y-axis counterpart to the xticks() function is the yticks() function.\n",
    "\n",
    "Use what we've discussed so far to rotate the x-axis tick labels by 90 degrees.\n",
    "\n",
    "## Instructions\n",
    "\n",
    "    Generate the same line chart from the last screen that visualizes the unemployment rates from 1948:\n",
    "        x-values should be the first 12 values in the DATE column\n",
    "        y-values should be the first 12 values in the VALUE column\n",
    "    Use pyplot.xticks() to rotate the x-axis tick labels by 90 degrees.\n",
    "    Display the plot.\n"
   ]
  },
  {
   "cell_type": "code",
   "execution_count": 12,
   "metadata": {
    "collapsed": false
   },
   "outputs": [
    {
     "data": {
      "image/png": "[encoded data removed]",
      "text/plain": [
       "<matplotlib.figure.Figure at 0x7f89a15b1a90>"
      ]
     },
     "metadata": {},
     "output_type": "display_data"
    }
   ],
   "source": [
    "unrate1948 = unrate.head( 12 )\n",
    "plt.plot( unrate1948[\"DATE\"], unrate1948[\"UNRATE\"] )\n",
    "plt.xticks( rotation =  90 )\n",
    "plt.show()"
   ]
  },
  {
   "cell_type": "markdown",
   "metadata": {},
   "source": [
    "# 10: Adding Axis Labels And A Title\n",
    "\n",
    "Let's now finish tweaking this plot by adding axis labels and a title. Always adding axis labels and a title to your plot is a good habit to have, and is especially useful when we're trying to keep track of multiple plots down the road.\n",
    "\n",
    "Here's an overview of the pyplot functions we need to tweak the axis labels and the plot title:\n",
    "\n",
    "    xlabel(): accepts a string value, which gets set as the x-axis label.\n",
    "    ylabel(): accepts a string value, which is set as the y-axis label.\n",
    "    title(): accepts a string value, which is set as the plot title.\n",
    "\n",
    "## Instructions\n",
    "\n",
    "    Generate the same line chart from the last screen that visualizes the unemployment rates from 1948:\n",
    "        x-values should be the first 12 values in the DATE column\n",
    "        y-values should be the first 12 values in the VALUE column\n",
    "        Rotate the x-axis tick labels by 90 degrees.\n",
    "    Set the x-axis label to \"Month\".\n",
    "    Set the y-axis label to \"Unemployment Rate\".\n",
    "    Set the plot title to \"Monthly Unemployment Trends, 1948\".\n",
    "    Display the plot.\n"
   ]
  },
  {
   "cell_type": "code",
   "execution_count": 14,
   "metadata": {
    "collapsed": false
   },
   "outputs": [
    {
     "data": {
      "image/png": "[encoded data removed]",
      "text/plain": [
       "<matplotlib.figure.Figure at 0x7f89a15bf550>"
      ]
     },
     "metadata": {},
     "output_type": "display_data"
    }
   ],
   "source": [
    "unrate1948 = unrate.head( 12 )\n",
    "plt.plot( unrate1948[\"DATE\"], unrate1948[\"UNRATE\"] )\n",
    "plt.xticks( rotation =  90 )\n",
    "plt.xlabel( \"Month\" )\n",
    "plt.ylabel( \"Unemployment Rate\" )\n",
    "plt.title( \"Monthly Unemployment Trends, 1948\" )\n",
    "plt.show()"
   ]
  },
  {
   "cell_type": "markdown",
   "metadata": {},
   "source": [
    "# 11: Next Steps\n",
    "\n",
    "In this mission, we looked at a sample of a dataset on unemployment as a table and noted some observations. We introduced line charts and witnessed how a visual representation of the same data sample allowed us to surface the same observations quickly. Finally, we explored the basics of the pyplot module and learned how to create and customize a line chart that visualized the sample.\n",
    "\n",
    "In the next mission, we'll dive deeper into matplotlib and learn how to create multiple plots to compare unemployment trends across multiple years."
   ]
  },
  {
   "cell_type": "code",
   "execution_count": null,
   "metadata": {
    "collapsed": true
   },
   "outputs": [],
   "source": []
  }
 ],
 "metadata": {
  "kernelspec": {
   "display_name": "Python 2",
   "language": "python",
   "name": "python2"
  },
  "language_info": {
   "codemirror_mode": {
    "name": "ipython",
    "version": 2
   },
   "file_extension": ".py",
   "mimetype": "text/x-python",
   "name": "python",
   "nbconvert_exporter": "python",
   "pygments_lexer": "ipython2",
   "version": "2.7.13"
  }
 },
 "nbformat": 4,
 "nbformat_minor": 2
}
