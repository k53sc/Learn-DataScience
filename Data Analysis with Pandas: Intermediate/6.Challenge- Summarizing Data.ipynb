{
 "cells": [
  {
   "cell_type": "markdown",
   "metadata": {},
   "source": [
    "# 1: How Challenges Work\n",
    "\n",
    "At Dataquest, we're huge believers in learning through doing, and we hope this shows in your learning experience. While missions focus on introducing concepts, challenges allow you to perform deliberate practice by completing structured problems. You can read more about deliberate practice here and here. Challenges will feel similar to missions, but with little instructional material and a greater focus on exercises.\n",
    "\n",
    "If you have questions or run into issues, head over to the Dataquest forums or our Slack community."
   ]
  },
  {
   "cell_type": "markdown",
   "metadata": {},
   "source": [
    "# 2: Introduction to the Data\n",
    "\n",
    "The American Community Survey is a U.S. Census Bureau survey that collects data on everything from housing affordability to industry employment rates. For this challenge, you'll be using the data that the team at FiveThirtyEight derived from the 2010-2012 American Community Surveys. FiveThirtyEight cleaned the data set and made it available in a Github repository.\n",
    "\n",
    "Here's a quick overview of the files we'll be working with:\n",
    "\n",
    "    all-ages.csv - Employment data by major for all ages\n",
    "    recent-grads.csv - Employment data by major for recent college graduates only\n",
    "\n",
    "Here are descriptions for a few of the columns (out of 21 total columns):\n",
    "\n",
    "    Rank - The major's numerical rank, by post-graduation median earnings\n",
    "    Major_code - The major's numerical code\n",
    "    Major - The major's description\n",
    "    Major_category - The major's category\n",
    "    Total - The total number of people who studied the major\n",
    "    Men - The number of men who studied the major\n",
    "    Women - The number of women who studied the major\n",
    "    ShareWomen - The share of women (from 0 to 1) who studied the major\n",
    "    Employed - The number of people who studied the major and obtained a job after graduating\n",
    "\n",
    "Here are the first few rows and columns in recent-grads.csv. The data set all-ages.csv has the same structure, but with different values for some of the columns:\n",
    "\n",
    "By completing this challenge, you'll test your comfort level with using pandas to manipulate DataFrames and calculate summary statistics. First, we'll need to read the data set into pandas"
   ]
  },
  {
   "cell_type": "code",
   "execution_count": 2,
   "metadata": {
    "collapsed": false
   },
   "outputs": [
    {
     "name": "stdout",
     "output_type": "stream",
     "text": [
      "   Major_code                                  Major  \\\n",
      "0        1100                    GENERAL AGRICULTURE   \n",
      "1        1101  AGRICULTURE PRODUCTION AND MANAGEMENT   \n",
      "2        1102                 AGRICULTURAL ECONOMICS   \n",
      "3        1103                        ANIMAL SCIENCES   \n",
      "4        1104                           FOOD SCIENCE   \n",
      "\n",
      "                    Major_category   Total  Employed  \\\n",
      "0  Agriculture & Natural Resources  128148     90245   \n",
      "1  Agriculture & Natural Resources   95326     76865   \n",
      "2  Agriculture & Natural Resources   33955     26321   \n",
      "3  Agriculture & Natural Resources  103549     81177   \n",
      "4  Agriculture & Natural Resources   24280     17281   \n",
      "\n",
      "   Employed_full_time_year_round  Unemployed  Unemployment_rate  Median  \\\n",
      "0                          74078        2423           0.026147   50000   \n",
      "1                          64240        2266           0.028636   54000   \n",
      "2                          22810         821           0.030248   63000   \n",
      "3                          64937        3619           0.042679   46000   \n",
      "4                          12722         894           0.049188   62000   \n",
      "\n",
      "   P25th    P75th  \n",
      "0  34000  80000.0  \n",
      "1  36000  80000.0  \n",
      "2  40000  98000.0  \n",
      "3  30000  72000.0  \n",
      "4  38500  90000.0  \n"
     ]
    }
   ],
   "source": [
    "import pandas as pd\n",
    "all_ages = pd.read_csv( \"../data/all-ages.csv\" )\n",
    "print( all_ages.head( 5 ) )"
   ]
  },
  {
   "cell_type": "markdown",
   "metadata": {},
   "source": [
    "# 3: Introduction to the Data\n",
    "\n",
    "## Instructions\n",
    "\n",
    "    Read all-ages.csv into a DataFrame object, and assign it to all_ages.\n",
    "    Read recent-grads.csv into a DataFrame object, and assign it to recent_grads.\n",
    "    Display the first five rows of all_ages and recent_grads.\n"
   ]
  },
  {
   "cell_type": "code",
   "execution_count": 1,
   "metadata": {
    "collapsed": false
   },
   "outputs": [
    {
     "name": "stdout",
     "output_type": "stream",
     "text": [
      "   Major_code                                  Major  \\\n",
      "0        1100                    GENERAL AGRICULTURE   \n",
      "1        1101  AGRICULTURE PRODUCTION AND MANAGEMENT   \n",
      "2        1102                 AGRICULTURAL ECONOMICS   \n",
      "3        1103                        ANIMAL SCIENCES   \n",
      "4        1104                           FOOD SCIENCE   \n",
      "\n",
      "                    Major_category   Total  Employed  \\\n",
      "0  Agriculture & Natural Resources  128148     90245   \n",
      "1  Agriculture & Natural Resources   95326     76865   \n",
      "2  Agriculture & Natural Resources   33955     26321   \n",
      "3  Agriculture & Natural Resources  103549     81177   \n",
      "4  Agriculture & Natural Resources   24280     17281   \n",
      "\n",
      "   Employed_full_time_year_round  Unemployed  Unemployment_rate  Median  \\\n",
      "0                          74078        2423           0.026147   50000   \n",
      "1                          64240        2266           0.028636   54000   \n",
      "2                          22810         821           0.030248   63000   \n",
      "3                          64937        3619           0.042679   46000   \n",
      "4                          12722         894           0.049188   62000   \n",
      "\n",
      "   P25th    P75th  \n",
      "0  34000  80000.0  \n",
      "1  36000  80000.0  \n",
      "2  40000  98000.0  \n",
      "3  30000  72000.0  \n",
      "4  38500  90000.0  \n",
      "   Rank  Major_code                                      Major    Total  \\\n",
      "0     1        2419                      PETROLEUM ENGINEERING   2339.0   \n",
      "1     2        2416             MINING AND MINERAL ENGINEERING    756.0   \n",
      "2     3        2415                  METALLURGICAL ENGINEERING    856.0   \n",
      "3     4        2417  NAVAL ARCHITECTURE AND MARINE ENGINEERING   1258.0   \n",
      "4     5        2405                       CHEMICAL ENGINEERING  32260.0   \n",
      "\n",
      "       Men    Women Major_category  ShareWomen  Sample_size  Employed  \\\n",
      "0   2057.0    282.0    Engineering    0.120564           36      1976   \n",
      "1    679.0     77.0    Engineering    0.101852            7       640   \n",
      "2    725.0    131.0    Engineering    0.153037            3       648   \n",
      "3   1123.0    135.0    Engineering    0.107313           16       758   \n",
      "4  21239.0  11021.0    Engineering    0.341631          289     25694   \n",
      "\n",
      "       ...        Part_time  Full_time_year_round  Unemployed  \\\n",
      "0      ...              270                  1207          37   \n",
      "1      ...              170                   388          85   \n",
      "2      ...              133                   340          16   \n",
      "3      ...              150                   692          40   \n",
      "4      ...             5180                 16697        1672   \n",
      "\n",
      "   Unemployment_rate  Median  P25th   P75th  College_jobs  Non_college_jobs  \\\n",
      "0           0.018381  110000  95000  125000          1534               364   \n",
      "1           0.117241   75000  55000   90000           350               257   \n",
      "2           0.024096   73000  50000  105000           456               176   \n",
      "3           0.050125   70000  43000   80000           529               102   \n",
      "4           0.061098   65000  50000   75000         18314              4440   \n",
      "\n",
      "   Low_wage_jobs  \n",
      "0            193  \n",
      "1             50  \n",
      "2              0  \n",
      "3              0  \n",
      "4            972  \n",
      "\n",
      "[5 rows x 21 columns]\n"
     ]
    }
   ],
   "source": [
    "all_ages = pd.read_csv( \"../data/all-ages.csv\" )\n",
    "recent_grads = pd.read_csv( \"../data/recent-grads.csv\" )\n",
    "\n",
    "print( all_ages.head( 5 ) )\n",
    "print( recent_grads.head( 5 ) )"
   ]
  },
  {
   "cell_type": "markdown",
   "metadata": {},
   "source": [
    "# 4: Summarizing Major Categories\n",
    "\n",
    "Both of these data sets group the various majors into categories in the Major_category column. Let's start by understanding the number of people in each Major_category for both data sets.\n",
    "\n",
    "To do so, you'll need to:\n",
    "\n",
    "    Return the unique values in Major_category.\n",
    "        Use the Series.unique() method to return the unique values in a column, like this: recent_grads['Major_category'].unique()\n",
    "    For each unique value:\n",
    "        Return all of the rows where Major_category equals that unique value.\n",
    "        Calculate the total number of students those rows represent (using the Total column).\n",
    "            Use the Series.sum() to calculate the sum of the values in a column. recent_grads['Total'].sum() returns the sum of the values in the Total column.\n",
    "        Keep track of the totals by adding the Major_category value and the total number of students to a dictionary.\n",
    "\n",
    "## Instructions\n",
    "\n",
    "    Use the Total column to calculate the number of people who fall under each Major_category in each data set.\n",
    "        Store the result as a separate dictionary for each data set.\n",
    "        The key for the dictionary should be the Major_category, and the value should be the total count.\n",
    "        For the counts from all_ages, store the results as a dictionary named aa_cat_counts.\n",
    "        For the counts from recent_grads, store the results as a dictionary named rg_cat_counts.\n"
   ]
  },
  {
   "cell_type": "code",
   "execution_count": 3,
   "metadata": {
    "collapsed": false
   },
   "outputs": [
    {
     "name": "stdout",
     "output_type": "stream",
     "text": [
      "{'Arts': 1805865, 'Social Science': 2654125, 'Interdisciplinary': 45199, 'Industrial Arts & Consumer Services': 1033798, 'Computers & Mathematics': 1781378, 'Communications & Journalism': 1803822, 'Humanities & Liberal Arts': 3738335, 'Engineering': 3576013, 'Biology & Life Science': 1338186, 'Health': 2950859, 'Law & Public Policy': 902926, 'Physical Sciences': 1025318, 'Education': 4700118, 'Agriculture & Natural Resources': 632437, 'Business': 9858741, 'Psychology & Social Work': 1987278}\n"
     ]
    }
   ],
   "source": [
    "aa_cat_counts = dict()\n",
    "rg_cat_counts = dict()\n",
    "\n",
    "rg_major_list = recent_grads['Major_category'].unique()\n",
    "for rg_major in rg_major_list:\n",
    "    rg_major_df = recent_grads[ recent_grads[\"Major_category\"] == rg_major ]\n",
    "    sum_rg = rg_major_df['Total'].sum()\n",
    "    rg_cat_counts[ rg_major ] = sum_rg\n",
    "    \n",
    "aa_major_list = all_ages['Major_category'].unique()\n",
    "for aa_major in aa_major_list:\n",
    "    aa_major_df = all_ages[ all_ages[\"Major_category\"] == aa_major ]\n",
    "    sum_aa = aa_major_df['Total'].sum()\n",
    "    aa_cat_counts[ aa_major ] = sum_aa\n",
    "    \n",
    "print aa_cat_counts"
   ]
  },
  {
   "cell_type": "markdown",
   "metadata": {},
   "source": [
    "# 5: Low-Wage Job Rates\n",
    "\n",
    "The press likes to talk about the number of college graduates working low-pay, unskilled jobs because they can't find better ones. As a data person, you should be skeptical of any broad claims, and analyze relevant data to obtain a more nuanced view.\n",
    "\n",
    "Let's run some basic calculations to explore that idea further.\n",
    "\n",
    "## Instructions\n",
    "\n",
    "    Use the Low_wage_jobs and Total columns to calculate the proportion of recent college graduates that worked low wage jobs.\n",
    "    Recall that you can use the Series.sum() method to return the sum of the values in a column.\n",
    "    Store the resulting float as low_wage_percent, and display the value with the print() function.\n"
   ]
  },
  {
   "cell_type": "code",
   "execution_count": 7,
   "metadata": {
    "collapsed": false
   },
   "outputs": [
    {
     "name": "stdout",
     "output_type": "stream",
     "text": [
      "0.0985889119556\n"
     ]
    }
   ],
   "source": [
    "low_wage_percent = 0.0\n",
    "\n",
    "low_wage_job = recent_grads['Low_wage_jobs'].sum()\n",
    "total_jobs= recent_grads['Total'].sum()\n",
    "low_wage_percent = ( low_wage_job/total_jobs )\n",
    "print ( low_wage_percent )"
   ]
  },
  {
   "cell_type": "markdown",
   "metadata": {},
   "source": [
    "# 6: Comparing Data Sets\n",
    "\n",
    "It looks like only about 9.85% of graduates took on a low wage job after finishing college.\n",
    "\n",
    "Both the all_ages and recent_grads data sets have 173 rows, corresponding to the 173 college major codes. This enables us to do some comparisons between the two data sets, and perform some initial calculations to see how the statistics for recent college graduates compare with those for the entire population.\n",
    "\n",
    "Next, let's calculate the number of majors where recent graduates did better than the overall population.\n",
    "\n",
    "## Instructions\n",
    "\n",
    "    Use a for loop to iterate over majors.\n",
    "    For each major, use Boolean filtering to find the corresponding row in both DataFrames.\n",
    "    Compare the values for Unemployment_rate to see which DataFrame has a lower value.\n",
    "    Increment rg_lower_count if the value for Unemployment_rate is lower for recent_grads than it is for all_ages.\n",
    "\n",
    "    Display rg_lower_count with the print() function.\n"
   ]
  },
  {
   "cell_type": "code",
   "execution_count": 8,
   "metadata": {
    "collapsed": false
   },
   "outputs": [
    {
     "name": "stdout",
     "output_type": "stream",
     "text": [
      "44\n"
     ]
    }
   ],
   "source": [
    "# All majors, common to both DataFrames\n",
    "majors = recent_grads['Major'].unique()\n",
    "rg_lower_count = 0\n",
    "\n",
    "for major in majors:\n",
    "    rg_major_df = recent_grads[ recent_grads[\"Major\"] == major ]\n",
    "    aa_major_df = all_ages[ all_ages[\"Major\"] == major ]\n",
    "    rg_rate = float ( rg_major_df['Unemployment_rate'] )\n",
    "    aa_rate = float ( aa_major_df['Unemployment_rate'] )\n",
    "    if rg_rate < aa_rate:\n",
    "        rg_lower_count = rg_lower_count + 1\n",
    "        \n",
    "print ( rg_lower_count )"
   ]
  },
  {
   "cell_type": "code",
   "execution_count": null,
   "metadata": {
    "collapsed": true
   },
   "outputs": [],
   "source": []
  }
 ],
 "metadata": {
  "kernelspec": {
   "display_name": "Python 2",
   "language": "python",
   "name": "python2"
  },
  "language_info": {
   "codemirror_mode": {
    "name": "ipython",
    "version": 2
   },
   "file_extension": ".py",
   "mimetype": "text/x-python",
   "name": "python",
   "nbconvert_exporter": "python",
   "pygments_lexer": "ipython2",
   "version": "2.7.13"
  }
 },
 "nbformat": 4,
 "nbformat_minor": 2
}
