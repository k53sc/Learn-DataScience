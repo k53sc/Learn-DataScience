{
 "cells": [
  {
   "cell_type": "markdown",
   "metadata": {},
   "source": [
    "# 1: Introduction\n",
    "\n",
    "In this mission, we'll clean and analyze data on passenger survival from the Titanic. Each row contains information for a specific Titanic passenger.\n",
    "\n",
    "Here are the first few rows of the dataset:"
   ]
  },
  {
   "cell_type": "code",
   "execution_count": 1,
   "metadata": {
    "collapsed": false
   },
   "outputs": [
    {
     "data": {
      "text/html": [
       "<div>\n",
       "<table border=\"1\" class=\"dataframe\">\n",
       "  <thead>\n",
       "    <tr style=\"text-align: right;\">\n",
       "      <th></th>\n",
       "      <th>pclass</th>\n",
       "      <th>survived</th>\n",
       "      <th>name</th>\n",
       "      <th>sex</th>\n",
       "      <th>age</th>\n",
       "      <th>sibsp</th>\n",
       "      <th>parch</th>\n",
       "      <th>ticket</th>\n",
       "      <th>fare</th>\n",
       "      <th>cabin</th>\n",
       "      <th>embarked</th>\n",
       "      <th>boat</th>\n",
       "      <th>body</th>\n",
       "      <th>home.dest</th>\n",
       "    </tr>\n",
       "  </thead>\n",
       "  <tbody>\n",
       "    <tr>\n",
       "      <th>0</th>\n",
       "      <td>1.0</td>\n",
       "      <td>1.0</td>\n",
       "      <td>Allen, Miss. Elisabeth Walton</td>\n",
       "      <td>female</td>\n",
       "      <td>29.0000</td>\n",
       "      <td>0.0</td>\n",
       "      <td>0.0</td>\n",
       "      <td>24160</td>\n",
       "      <td>211.3375</td>\n",
       "      <td>B5</td>\n",
       "      <td>S</td>\n",
       "      <td>2</td>\n",
       "      <td>NaN</td>\n",
       "      <td>St Louis, MO</td>\n",
       "    </tr>\n",
       "    <tr>\n",
       "      <th>1</th>\n",
       "      <td>1.0</td>\n",
       "      <td>1.0</td>\n",
       "      <td>Allison, Master. Hudson Trevor</td>\n",
       "      <td>male</td>\n",
       "      <td>0.9167</td>\n",
       "      <td>1.0</td>\n",
       "      <td>2.0</td>\n",
       "      <td>113781</td>\n",
       "      <td>151.5500</td>\n",
       "      <td>C22 C26</td>\n",
       "      <td>S</td>\n",
       "      <td>11</td>\n",
       "      <td>NaN</td>\n",
       "      <td>Montreal, PQ / Chesterville, ON</td>\n",
       "    </tr>\n",
       "    <tr>\n",
       "      <th>2</th>\n",
       "      <td>1.0</td>\n",
       "      <td>0.0</td>\n",
       "      <td>Allison, Miss. Helen Loraine</td>\n",
       "      <td>female</td>\n",
       "      <td>2.0000</td>\n",
       "      <td>1.0</td>\n",
       "      <td>2.0</td>\n",
       "      <td>113781</td>\n",
       "      <td>151.5500</td>\n",
       "      <td>C22 C26</td>\n",
       "      <td>S</td>\n",
       "      <td>NaN</td>\n",
       "      <td>NaN</td>\n",
       "      <td>Montreal, PQ / Chesterville, ON</td>\n",
       "    </tr>\n",
       "    <tr>\n",
       "      <th>3</th>\n",
       "      <td>1.0</td>\n",
       "      <td>0.0</td>\n",
       "      <td>Allison, Mr. Hudson Joshua Creighton</td>\n",
       "      <td>male</td>\n",
       "      <td>30.0000</td>\n",
       "      <td>1.0</td>\n",
       "      <td>2.0</td>\n",
       "      <td>113781</td>\n",
       "      <td>151.5500</td>\n",
       "      <td>C22 C26</td>\n",
       "      <td>S</td>\n",
       "      <td>NaN</td>\n",
       "      <td>135.0</td>\n",
       "      <td>Montreal, PQ / Chesterville, ON</td>\n",
       "    </tr>\n",
       "    <tr>\n",
       "      <th>4</th>\n",
       "      <td>1.0</td>\n",
       "      <td>0.0</td>\n",
       "      <td>Allison, Mrs. Hudson J C (Bessie Waldo Daniels)</td>\n",
       "      <td>female</td>\n",
       "      <td>25.0000</td>\n",
       "      <td>1.0</td>\n",
       "      <td>2.0</td>\n",
       "      <td>113781</td>\n",
       "      <td>151.5500</td>\n",
       "      <td>C22 C26</td>\n",
       "      <td>S</td>\n",
       "      <td>NaN</td>\n",
       "      <td>NaN</td>\n",
       "      <td>Montreal, PQ / Chesterville, ON</td>\n",
       "    </tr>\n",
       "  </tbody>\n",
       "</table>\n",
       "</div>"
      ],
      "text/plain": [
       "   pclass  survived                                             name     sex  \\\n",
       "0     1.0       1.0                    Allen, Miss. Elisabeth Walton  female   \n",
       "1     1.0       1.0                   Allison, Master. Hudson Trevor    male   \n",
       "2     1.0       0.0                     Allison, Miss. Helen Loraine  female   \n",
       "3     1.0       0.0             Allison, Mr. Hudson Joshua Creighton    male   \n",
       "4     1.0       0.0  Allison, Mrs. Hudson J C (Bessie Waldo Daniels)  female   \n",
       "\n",
       "       age  sibsp  parch  ticket      fare    cabin embarked boat   body  \\\n",
       "0  29.0000    0.0    0.0   24160  211.3375       B5        S    2    NaN   \n",
       "1   0.9167    1.0    2.0  113781  151.5500  C22 C26        S   11    NaN   \n",
       "2   2.0000    1.0    2.0  113781  151.5500  C22 C26        S  NaN    NaN   \n",
       "3  30.0000    1.0    2.0  113781  151.5500  C22 C26        S  NaN  135.0   \n",
       "4  25.0000    1.0    2.0  113781  151.5500  C22 C26        S  NaN    NaN   \n",
       "\n",
       "                         home.dest  \n",
       "0                     St Louis, MO  \n",
       "1  Montreal, PQ / Chesterville, ON  \n",
       "2  Montreal, PQ / Chesterville, ON  \n",
       "3  Montreal, PQ / Chesterville, ON  \n",
       "4  Montreal, PQ / Chesterville, ON  "
      ]
     },
     "execution_count": 1,
     "metadata": {},
     "output_type": "execute_result"
    }
   ],
   "source": [
    "# code to print first 5 rows here\n",
    "import pandas as pd\n",
    "titanic_survival = pd.read_csv( \"../data/titanic_survival.csv\")\n",
    "titanic_survival.head( 5 )"
   ]
  },
  {
   "cell_type": "markdown",
   "metadata": {},
   "source": [
    "Lets take a closer look at a few of the key columns:\n",
    "\n",
    "    pclass -- The passenger's cabin class from 1 to 3 where 1 was the highest class\n",
    "    survived -- 1 if the passenger survived, and 0 if they did not.\n",
    "    sex -- The passenger's gender\n",
    "    age -- The passenger's age\n",
    "    fare -- The amount the passenger paid for their ticket\n",
    "    embarked -- Either C, Q, or S, to indicate which port the passenger boarded the ship from.\n",
    "\n",
    "Many of the columns, such as age and sex, have missing values.\n",
    "\n",
    "Because missing values can cause errors in numerical functions, we'll need to deal with them before we can analyze the data. For instance, finding the mean of a column with a missing value will fail because it's impossible to average a missing value. Addressing missing values will let us perform calculations on the entire data set."
   ]
  },
  {
   "cell_type": "markdown",
   "metadata": {},
   "source": [
    "# 2: Introduction\n",
    "\n",
    "Let's import the data set into pandas. You may notice at the start of the code, we import pandas differently from how we have previously.\n",
    "\n",
    "```\n",
    "import pandas as pd\n",
    "```\n",
    "\n",
    "This gives the pandas library the alias pd, so that instead of typing pandas every time we want to use a function, we can instead type pd, for example pd.read_csv().\n",
    "Instructions\n",
    "\n",
    "    Read the file titanic_survival.csv into a dataframe called titanic_survival.\n"
   ]
  },
  {
   "cell_type": "code",
   "execution_count": 2,
   "metadata": {
    "collapsed": true
   },
   "outputs": [],
   "source": [
    "titanic_survival = pd.read_csv( \"../data/titanic_survival.csv\")"
   ]
  },
  {
   "cell_type": "markdown",
   "metadata": {},
   "source": [
    "# 3: Finding the Missing Data\n",
    "\n",
    "Missing data can take a few different forms:\n",
    "\n",
    "    In Python, the None keyword and type indicates no value.\n",
    "    The Pandas library uses NaN, which stands for \"not a number\", to indicate a missing value.\n",
    "\n",
    "In general terms, both NaN and None can be called null values.\n",
    "\n",
    "If we want to see which values are NaN, we can use the pandas.isnull() function which takes a pandas series and returns a series of True and False values, the same way that NumPy did when we compared arrays.\n",
    "\n",
    "\n",
    "    sex = titanic_survival[\"sex\"]\n",
    "\n",
    "    sex_is_null = pandas.isnull(sex)\n",
    "\n",
    "We can use this resultant series to select only the rows that have null values.\n",
    "\n",
    "    sex_null_true = sex[sex_is_null]\n",
    "\n",
    "We'll use this structure to look at the null values for the \"age\" column.\n",
    "\n",
    "## Instructions\n",
    "\n",
    "    Count how many values in the \"age\" column have null values:\n",
    "    Use pandas.isnull() on age variable to create a Series of True and False values.\n",
    "    Use the resulting series to select only the elements in age that are null, and assign the result to age_null_true\n",
    "    Assign the length of age_null_true to age_null_count.\n"
   ]
  },
  {
   "cell_type": "code",
   "execution_count": 3,
   "metadata": {
    "collapsed": false
   },
   "outputs": [
    {
     "name": "stdout",
     "output_type": "stream",
     "text": [
      "264\n"
     ]
    }
   ],
   "source": [
    "age = titanic_survival[\"age\"]\n",
    "\n",
    "age_is_null = pd.isnull( age )\n",
    "age_null_true = age[age_is_null]\n",
    "\n",
    "age_null_count = len( age_null_true )\n",
    "print ( age_null_count )"
   ]
  },
  {
   "cell_type": "markdown",
   "metadata": {},
   "source": [
    "# 4: Whats the big deal with missing data?\n",
    "\n",
    "So, we know that quite a few values are missing from the \"age\" column, and other columns are missing data too. But why is this a problem?\n",
    "\n",
    "Lets look at a typical approach to calculate the average for the \"age\" column:\n",
    "\n",
    "    mean_age = sum(titanic_survival[\"age\"]) / len(titanic_survival[\"age\"])\n",
    "\n",
    "The result of this is that mean_age would be nan. This is because any calculations we do with a null value also result in a null value. This makes sense when you think about it -- how can you add a null value to a known value?\n",
    "\n",
    "Instead, we have to filter out the missing values before we calculate the mean.\n",
    "\n",
    "## Instructions\n",
    "\n",
    "    Use age_is_null to create a vector that only contains values from the \"age\" column that aren't NaN.\n",
    "    Calculate the mean of the new vector, and assign the result to correct_mean_age.\n"
   ]
  },
  {
   "cell_type": "code",
   "execution_count": 4,
   "metadata": {
    "collapsed": false
   },
   "outputs": [
    {
     "name": "stdout",
     "output_type": "stream",
     "text": [
      "29.8811345124\n"
     ]
    }
   ],
   "source": [
    "age = titanic_survival[\"age\"]\n",
    "age_not_null = age.notnull()\n",
    "age = age[ age_not_null ]\n",
    "correct_mean_age = age.mean()\n",
    "print correct_mean_age"
   ]
  },
  {
   "cell_type": "markdown",
   "metadata": {},
   "source": [
    "# 5: Easier Ways to Do Math\n",
    "\n",
    "Luckily, missing data is so common that many pandas methods automatically filter for it. For example, if we use use the Series.mean() method to calculate the mean of a column, missing values will not be included in the calculation.\n",
    "\n",
    "To calculate the mean age that we did earlier, we can replace all of our code with one line\n",
    "\n",
    "    correct_mean_age = titanic_survival[\"age\"].mean()\n",
    "\n",
    "Using the built in method is much easier, but it's import to understand what is happening behind the scenes.\n",
    "\n",
    "## Instructions\n",
    "\n",
    "    Assign the mean of the \"fare\" column to correct_mean_fare."
   ]
  },
  {
   "cell_type": "code",
   "execution_count": 5,
   "metadata": {
    "collapsed": false
   },
   "outputs": [
    {
     "name": "stdout",
     "output_type": "stream",
     "text": [
      "33.2954792813\n"
     ]
    }
   ],
   "source": [
    "correct_mean_fare = titanic_survival[\"fare\"].mean()\n",
    "print correct_mean_fare"
   ]
  },
  {
   "cell_type": "markdown",
   "metadata": {},
   "source": [
    "# 6: Calculating Summary Statistics\n",
    "\n",
    "Let's calculate more summary statistics for the data. The pclass column indicates the cabin class for each passenger, which was either first class (1), second class (2), or third class (3). You'll use the list passenger_classes, which contains these values, in the following exercise.\n",
    "\n",
    "## Instructions\n",
    "\n",
    "    Use a for loop to iterate over passenger_classes. Within the for loop:\n",
    "    Select just the rows in titanic_survival where the pclass value is equivalent to the current iterator value (class).\n",
    "    Select just the fare column for the current subset of rows.\n",
    "    Use the Series.mean method to calculate the mean of this subset.\n",
    "    Add the mean of the class to the fares_by_class dictionary with class as the key.\n",
    "    Once the loop completes, the dictionary fares_by_class should have 1, 2, and 3 as keys, with the average fares as the corresponding values.\n"
   ]
  },
  {
   "cell_type": "code",
   "execution_count": 6,
   "metadata": {
    "collapsed": false
   },
   "outputs": [
    {
     "name": "stdout",
     "output_type": "stream",
     "text": [
      "{1: 87.50899164086687, 2: 21.1791963898917, 3: 13.302888700564957}\n"
     ]
    }
   ],
   "source": [
    "passenger_classes = [1, 2, 3]\n",
    "fares_by_class = {}\n",
    "\n",
    "for class_type in passenger_classes:\n",
    "    class_df = titanic_survival[ titanic_survival[\"pclass\"] == class_type ]\n",
    "    class_fare = class_df[\"fare\"]\n",
    "    class_fare_mean = class_fare.mean()\n",
    "    fares_by_class[class_type] = class_fare_mean\n",
    "    \n",
    "print fares_by_class"
   ]
  },
  {
   "cell_type": "markdown",
   "metadata": {},
   "source": [
    "# 7: Making Pivot Tables\n",
    "\n",
    "Pivot tables provide an easy way to subset by one column and then apply a calculation like a sum or a mean. The concept of Pivot tables was popularized with the introduction of the 'PivotTable' feature in Microsoft Excel in the mid 1990's.\n",
    "\n",
    "Pivot tables first group and then apply a calculation. In the previous screen, we actually made a pivot table manually by grouping by the column \"pclass\" and then calculating the mean of the \"fare\" column for each class.\n",
    "\n",
    "Luckily, we can use the Dataframe.pivot_table() method instead, which simplifies the kind of work we did on the last screen. To produce the same data, we could use one line.\n",
    "\n",
    "    passenger_class_fares = titanic_survival.pivot_table(index=\"pclass\", values=\"fare\", aggfunc=np.mean)\n",
    "\n",
    "The first parameter of the method, index tells the method which column to group by. The second parameter values is the column that we want to apply the calculation to, and aggfunc specifies the calculation we want to perform. The default for the aggfunc parameter is actually the mean, so if we're calculating this we can omit this parameter.\n",
    "Instructions\n",
    "\n",
    "    Use the DataFrame.pivot_table() method to calculate the mean age for each passenger class (\"pclass\").\n",
    "    Assign the result to passenger_age.\n",
    "    Display the passenger_age pivot table using the print() function.\n"
   ]
  },
  {
   "cell_type": "code",
   "execution_count": 7,
   "metadata": {
    "collapsed": false
   },
   "outputs": [
    {
     "name": "stdout",
     "output_type": "stream",
     "text": [
      "pclass\n",
      "1.0    39.159918\n",
      "2.0    29.506705\n",
      "3.0    24.816367\n",
      "Name: age, dtype: float64\n"
     ]
    }
   ],
   "source": [
    "passenger_age = titanic_survival.pivot_table( index=\"pclass\", values=\"age\" )\n",
    "print ( passenger_age )"
   ]
  },
  {
   "cell_type": "markdown",
   "metadata": {},
   "source": [
    "# 8: More Complex Pivot Tables\n",
    "\n",
    "We can use the DataFrame.pivot_table() method to perform even more advanced tasks. If we pass a list of column names to the values parameter instead of a single value, we can perform calculations on multiple columns at once.\n",
    "\n",
    "We can also specify a custom calculation to be made. For instance, if we pass np.sum() to the aggfunc parameter it will total the values in each column.\n",
    "\n",
    "## Instructions\n",
    "\n",
    "    Make a pivot table that calculates the total fares collected (\"fare\") and total number of survivors (\"survived\") for each embarkation port (\"embarked\").\n",
    "    Assign the result to port_stats.\n",
    "    Display port_stats using the print() function.\n"
   ]
  },
  {
   "cell_type": "code",
   "execution_count": 8,
   "metadata": {
    "collapsed": false
   },
   "outputs": [
    {
     "name": "stdout",
     "output_type": "stream",
     "text": [
      "                fare  survived\n",
      "embarked                      \n",
      "C         16830.7922     150.0\n",
      "Q          1526.3085      44.0\n",
      "S         25033.3862     304.0\n"
     ]
    }
   ],
   "source": [
    "import numpy as np\n",
    "port_stats = titanic_survival.pivot_table( index=\"embarked\",  values=[\"fare\", \"survived\"] , aggfunc=np.sum )\n",
    "print ( port_stats )"
   ]
  },
  {
   "cell_type": "markdown",
   "metadata": {},
   "source": [
    "# 9: Drop Missing Values\n",
    "\n",
    "We learned how to remove the missing values in a vector of data, but how about in a matrix?\n",
    "\n",
    "We can use the DataFrame.dropna() method on pandas DataFrames to do this. The method will drop any rows that contain missing values.\n",
    "\n",
    "The dropna() method takes an axis parameter, which indicates whether you would like to drop rows or columns. Specifying axis=0 or axis='index' will drop any rows that have null values, while specifying axis=1 or axis='columns' will drop any columns that have null values. We will use 0 and 1 since they're more commonly used, but you can use either.\n",
    "\n",
    "The code below will drop all rows in titanic_survival that have null values.\n",
    "\n",
    "    drop_na_rows = titanic_survival.dropna(axis=0)\n",
    "\n",
    "There is also a parameter that allows you to specify a list of columns or rows to look at when using dropna(). You will need to use this in the next exercise - take a look at the documentation http://pandas.pydata.org/pandas-docs/stable/generated/pandas.DataFrame.dropna.html to work out the name of this parameter and how it works.\n",
    " \n",
    "## Instructions\n",
    "\n",
    "    Drop all columns in titanic_survival that have missing values and assign the result to drop_na_columns.\n",
    "    Drop all rows in titanic_survival where the columns \"age\" or \"sex\" have missing values and assign the result to new_titanic_survival.\n",
    "\n",
    "## If any field in a column contains \"NaN\" whole row will be dropped"
   ]
  },
  {
   "cell_type": "code",
   "execution_count": 15,
   "metadata": {
    "collapsed": false
   },
   "outputs": [],
   "source": [
    "drop_na_rows = titanic_survival.dropna(axis=0)\n",
    "drop_na_columns = titanic_survival.dropna( axis=1 )\n",
    "new_titanic_survival = titanic_survival.dropna( axis=0, subset=[ 'age', 'sex' ] )"
   ]
  },
  {
   "cell_type": "markdown",
   "metadata": {
    "collapsed": true
   },
   "source": [
    "# 10: Using iloc to Access Rows by Position\n",
    "\n",
    "In previous missions, we have used row labels to select data in pandas using Dataframe.loc[]. These work just like column labels, and can be values like numbers, characters, and strings.\n",
    "\n",
    "Sometimes your dataset will have row labels that are not numbers, or that are not in order. We have sorted the new_titanic_survival dataframe by the \"age\" column from highest to lowest. Here is a preview of the a few of the columns for the first five rows of the data, or the five oldest passengers onboard.\n",
    "\t\n",
    "            pclass \t    survived  name \t                                            sex \tage\n",
    "    14 \t    1.0 \t    1.0 \tBarkworth, Mr. Algernon Henry Wilson \t            male \t80.0\n",
    "    61 \t    1.0 \t    1.0 \tCavendish, Mrs. Tyrell William (Julia Florence... \tfemale \t76.0\n",
    "    1235 \t3.0 \t    0.0 \tSvensson, Mr. Johan \t                            male \t74.0\n",
    "    135 \t1.0 \t    0.0 \tGoldschmidt, Mr. George B \t                        male \t71.0\n",
    "    9 \t    1.0 \t    0.0 \tArtagaveytia, Mr. Ramon \t                        male \t71.0\n",
    "\n",
    "You can see that the row labels for the first 5 rows are 14, 61, 1235, 135 and 9. If we wanted to select the first five rows, we can use DataFrame.iloc[] method to select by position. The easy way to remember which is which is to remember that iloc[] stands for integer location, because you use integers and not labels to select the data.\n",
    "\n",
    "The following code will select the first 5 rows as shown above:\n",
    "\n",
    "first_five_rows = new_titanic_survival.iloc[0:5]\n",
    "\n",
    "Instructions\n",
    "\n",
    "    Assign the first ten rows from new_titanic_survival to first_ten_rows.\n",
    "    Assign the fifth row from new_titanic_survival to row_position_fifth.\n",
    "    Assign the row with index label 25 from new_titanic_survivalto row_index_25.\n"
   ]
  },
  {
   "cell_type": "code",
   "execution_count": 19,
   "metadata": {
    "collapsed": false
   },
   "outputs": [],
   "source": [
    "new_titanic_survival = titanic_survival.sort_values( by=\"age\" )\n",
    "first_five_rows = new_titanic_survival.iloc[0:5]\n",
    "first_ten_rows = new_titanic_survival[0:10]\n",
    "row_position_fifth = new_titanic_survival.iloc[4]\n",
    "row_index_25 = new_titanic_survival.loc[25]"
   ]
  },
  {
   "cell_type": "markdown",
   "metadata": {},
   "source": [
    "# 11: Using Column Indexes\n",
    "\n",
    "We can also index columns using both the loc[] and iloc[] methods. With .loc[], we specify the column label strings as we have in the earlier exercises in this missions. With iloc[], we simply use the integer number of the column, starting from the left-most column which is 0. Similar to indexing with NumPy arrays, you separate the row and columns with a comma, and can use a colon to specify a range or as a wildcard.\n",
    "\n",
    "    first_row_first_column = new_titanic_survival.iloc[0,0]\n",
    "\n",
    "    all_rows_first_three_columns = new_titanic_survival.iloc[:,0:3]\n",
    "\n",
    "    row_index_83_age = new_titanic_survival.loc[83,\"age\"]\n",
    "\n",
    "    row_index_766_pclass = new_titanic_survival.loc[766,\"pclass\"]\n",
    "\n",
    "## Instructions\n",
    "\n",
    "    Assign the value at row index label 1100, column index label \"age\" from new_titanic_survival to row_index_1100_age.\n",
    "    Assign the value at row index label 25, column index label \"survived\" from new_titanic_survival to row_index_25_survived.\n",
    "    Assign the first 5 rows and first three columns from new_titanic_survival to five_rows_three_cols.\n"
   ]
  },
  {
   "cell_type": "code",
   "execution_count": 22,
   "metadata": {
    "collapsed": false
   },
   "outputs": [],
   "source": [
    "row_index_1100_age = new_titanic_survival.loc[1100,\"age\"]\n",
    "row_index_25_survived = new_titanic_survival.loc[25, \"survived\"]\n",
    "five_rows_three_cols = new_titanic_survival.iloc[0:5,0:3]"
   ]
  },
  {
   "cell_type": "markdown",
   "metadata": {},
   "source": [
    "# 12: Reindexing Rows\n",
    "\n",
    "After we sorted new_titanic_survival by age, the row indexes were no longer sequential. Each row retained its original index from titanic_survival.\n",
    "\n",
    "Sometimes it's useful to reindex, starting from 0. We can use the DataFrame.reset_index() method to do this. By default, the method retains the old index by adding an extra column to the dataframe with the old index values.\n",
    "\n",
    "In this exercise, we don't want to retain the index. Check the documentation to see what parameter you need to add so that we don't retain the old index.\n",
    "\n",
    "## Instructions\n",
    "\n",
    "    Reindex the new_titanic_survival dataframe so the row indexes start from 0, and the old index is dropped.\n",
    "    Assign the final result to titanic_reindexed.\n",
    "    Print the first 5 rows and the first 3 columns of titanic_reindexed.\n"
   ]
  },
  {
   "cell_type": "code",
   "execution_count": 25,
   "metadata": {
    "collapsed": false
   },
   "outputs": [
    {
     "name": "stdout",
     "output_type": "stream",
     "text": [
      "   pclass  survived                                     name     sex     age  \\\n",
      "0     3.0       1.0  Dean, Miss. Elizabeth Gladys \"Millvina\"  female  0.1667   \n",
      "1     3.0       0.0  Danbom, Master. Gilbert Sigvard Emanuel    male  0.3333   \n",
      "2     3.0       1.0          Thomas, Master. Assad Alexander    male  0.4167   \n",
      "3     2.0       1.0                Hamalainen, Master. Viljo    male  0.6667   \n",
      "4     3.0       0.0           Peacock, Master. Alfred Edward    male  0.7500   \n",
      "\n",
      "   sibsp  parch              ticket     fare cabin embarked boat  body  \\\n",
      "0    1.0    2.0           C.A. 2315  20.5750   NaN        S   10   NaN   \n",
      "1    0.0    2.0              347080  14.4000   NaN        S  NaN   NaN   \n",
      "2    0.0    1.0                2625   8.5167   NaN        C   16   NaN   \n",
      "3    1.0    1.0              250649  14.5000   NaN        S    4   NaN   \n",
      "4    1.0    1.0  SOTON/O.Q. 3101315  13.7750   NaN        S  NaN   NaN   \n",
      "\n",
      "                    home.dest  \n",
      "0  Devon, England Wichita, KS  \n",
      "1                 Stanton, IA  \n",
      "2                         NaN  \n",
      "3                 Detroit, MI  \n",
      "4                         NaN  \n"
     ]
    }
   ],
   "source": [
    "titanic_reindexed = new_titanic_survival.reset_index( drop=\"true\")\n",
    "print ( titanic_reindexed.head( 5 ) )"
   ]
  },
  {
   "cell_type": "markdown",
   "metadata": {},
   "source": [
    "# 13: Apply Functions Over a DataFrame\n",
    "\n",
    "To perform a complex calculation across pandas objects, we'll need to learn about the DataFrame.apply() method. By default, DataFrame.apply() will iterate through each column in a DataFrame, and perform on each function. When we create our function, we give it one parameter, apply() method passes each column to the parameter as a pandas series.\n",
    "\n",
    "The result from the function will be combined with all of the other results, and placed into a new series. The function results will have the same position as the column or row we generated them from. Let's look at a simple example:\n",
    "\n",
    "This function returns the hundredth item from a series\n",
    "\n",
    "    def hundredth_row(column):\n",
    "        # Extract the hundredth item\n",
    "        hundredth_item = column.iloc[99]\n",
    "        return hundredth_item\n",
    "\n",
    "\n",
    "Return the hundredth item from each column\n",
    "\n",
    "    hundredth_row_var = titanic_survival.apply(hundredth_row)\n",
    "\n",
    "## Instructions\n",
    "\n",
    "    Write a function that counts the number of null elements in a Series.\n",
    "    Use the DataFrame.apply() method along with your function to run across all the columns in titanic_survival.\n",
    "    Assign the result to column_null_count.\n"
   ]
  },
  {
   "cell_type": "code",
   "execution_count": 29,
   "metadata": {
    "collapsed": false
   },
   "outputs": [
    {
     "name": "stdout",
     "output_type": "stream",
     "text": [
      "pclass          1\n",
      "survived        1\n",
      "name            1\n",
      "sex             1\n",
      "age           264\n",
      "sibsp           1\n",
      "parch           1\n",
      "ticket          1\n",
      "fare            2\n",
      "cabin        1015\n",
      "embarked        3\n",
      "boat          824\n",
      "body         1189\n",
      "home.dest     565\n",
      "dtype: int64\n"
     ]
    }
   ],
   "source": [
    "def count_null(column):\n",
    "    null_val = pd.isnull( column )\n",
    "    not_list = column[ null_val ]\n",
    "    return len( not_list )\n",
    "column_null_count = titanic_survival.apply( count_null )\n",
    "print column_null_count"
   ]
  },
  {
   "cell_type": "markdown",
   "metadata": {},
   "source": [
    "# 14: Applying a Function to a Row\n",
    "\n",
    "By passing in the axis=1 argument, we can use the DataFrame.apply() method to iterate over rows instead of columns.\n",
    "\n",
    "We can use this to calculate some summary information about the ages of the passengers on the Titanic. You will need to use an if/elif/else statement in your function. The elif statement just means else if. Below is an example of how these statements work.\n",
    "\n",
    "    def which_class(row):\n",
    "        pclass = row['pclass']\n",
    "        \n",
    "        if pd.isnull(pclass):\n",
    "            return \"Unknown\"\n",
    "        elif pclass == 1:\n",
    "            return \"First Class\"\n",
    "\n",
    "        elif pclass == 2:\n",
    "            return \"Second Class\"\n",
    "\n",
    "        else:\n",
    "            return \"Third Class\"\n",
    "\n",
    "    classes = titanic_survivors.apply(which_class, axis=1)\n",
    "\n",
    "When the function is called, each test runs until one of the if, elif or else statements is met.\n",
    "\n",
    "## Instructions\n",
    "\n",
    "    Create a function that returns the string \"minor\" if someone is under 18, \"adult\" if they are equal to or over 18, and \"unknown\" if their age is null.\n",
    "    Then, use the function along with .apply() to find the correct label for everyone in the titanic_survival dataframe.\n",
    "    Assign the result to age_labels.\n",
    "    You can use pd.isnull to check if a value is null or not.\n"
   ]
  },
  {
   "cell_type": "code",
   "execution_count": 32,
   "metadata": {
    "collapsed": false
   },
   "outputs": [],
   "source": [
    "def is_minor( row ):\n",
    "    age = row['age']\n",
    "    \n",
    "    if pd.isnull(age):\n",
    "        return \"unknown\"\n",
    "    \n",
    "    if age < 18:\n",
    "        return \"minor\"\n",
    "    else:\n",
    "        return \"adult\"\n",
    "    \n",
    "age_labels = titanic_survival.apply( is_minor, axis=1 )\n",
    "titanic_survival[\"age_labels\"] = age_labels"
   ]
  },
  {
   "cell_type": "markdown",
   "metadata": {},
   "source": [
    "# 15: Calculating Survival Percentage by Age Group\n",
    "\n",
    "Now that we have age labels for everyone, let's make a pivot table to find the probability of survival for each age group.\n",
    "\n",
    "We have added an \"age_labels\" column to the dataframe containing the age_labels variable from the previous step.\n",
    "Instructions\n",
    "\n",
    "    Create a pivot table that calculates the mean survival chance(\"survived\") for each age group (\"age_labels\") of the dataframe titanic_survival.\n",
    "    Assign the resulting Series object to age_group_survival.\n"
   ]
  },
  {
   "cell_type": "code",
   "execution_count": 34,
   "metadata": {
    "collapsed": false
   },
   "outputs": [],
   "source": [
    "age_group_survival = titanic_survival.pivot_table( index=\"age_labels\", values='survived', aggfunc=np.mean )"
   ]
  },
  {
   "cell_type": "markdown",
   "metadata": {},
   "source": [
    "# 16: Next Steps\n",
    "\n",
    "In this mission, we learned several strategies for identifying missing data, using integer based selection, and performing calculations to perform analysis in pandas dataframes.\n",
    "\n",
    "The next mission is a challenge, where we'll practice some of the pandas concepts we've learned so far."
   ]
  }
 ],
 "metadata": {
  "kernelspec": {
   "display_name": "Python 2",
   "language": "python",
   "name": "python2"
  },
  "language_info": {
   "codemirror_mode": {
    "name": "ipython",
    "version": 2
   },
   "file_extension": ".py",
   "mimetype": "text/x-python",
   "name": "python",
   "nbconvert_exporter": "python",
   "pygments_lexer": "ipython2",
   "version": "2.7.13"
  }
 },
 "nbformat": 4,
 "nbformat_minor": 2
}
