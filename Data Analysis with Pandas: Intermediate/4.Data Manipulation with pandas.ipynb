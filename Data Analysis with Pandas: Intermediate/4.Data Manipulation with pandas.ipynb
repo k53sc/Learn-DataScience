{
 "cells": [
  {
   "cell_type": "markdown",
   "metadata": {},
   "source": [
    "# 1: Overview\n",
    "\n",
    "In the previous mission, we learned how to explore a pandas DataFrame. In this mission, we'll explore how to manipulate a DataFrame and make transformations to it. We'll continue to work with the same data set from the USDA on nutritional information. We'll build a basic nutritional index for people who want to eat high-protein, low-fat foods. The \"Lipid_Tot_(g)\" column contains each food's total fat content, and the \"Protein_(g)\" (in grams) contains each food's total protein content (in grams). Let's use the following formula to score each food in our data set:\n",
    "\n",
    "While this formula is by no means scientific, it will act as a guide as we explore pandas further.\n",
    "\n",
    "\n",
    "## Instructions\n",
    "\n",
    "To practice what we learned in the previous mission:\n",
    "\n",
    "1. Import the pandas library.\n",
    "2. Read food_info.csv into a DataFrame object named food_info.\n",
    "3. Use the DataFrame.columns attribute, followed by the Index.tolist() method, to return a list containing only the column names.\n",
    "3. Assign the resulting list to col_names, and use the print() function to display the value.\n",
    "4. Display the first three rows of food_info.\n"
   ]
  },
  {
   "cell_type": "code",
   "execution_count": 5,
   "metadata": {
    "collapsed": false
   },
   "outputs": [
    {
     "data": {
      "text/html": [
       "<div>\n",
       "<table border=\"1\" class=\"dataframe\">\n",
       "  <thead>\n",
       "    <tr style=\"text-align: right;\">\n",
       "      <th></th>\n",
       "      <th>NDB_No</th>\n",
       "      <th>Shrt_Desc</th>\n",
       "      <th>Water_(g)</th>\n",
       "      <th>Energ_Kcal</th>\n",
       "      <th>Protein_(g)</th>\n",
       "      <th>Lipid_Tot_(g)</th>\n",
       "      <th>Ash_(g)</th>\n",
       "      <th>Carbohydrt_(g)</th>\n",
       "      <th>Fiber_TD_(g)</th>\n",
       "      <th>Sugar_Tot_(g)</th>\n",
       "      <th>...</th>\n",
       "      <th>Vit_A_IU</th>\n",
       "      <th>Vit_A_RAE</th>\n",
       "      <th>Vit_E_(mg)</th>\n",
       "      <th>Vit_D_mcg</th>\n",
       "      <th>Vit_D_IU</th>\n",
       "      <th>Vit_K_(mcg)</th>\n",
       "      <th>FA_Sat_(g)</th>\n",
       "      <th>FA_Mono_(g)</th>\n",
       "      <th>FA_Poly_(g)</th>\n",
       "      <th>Cholestrl_(mg)</th>\n",
       "    </tr>\n",
       "  </thead>\n",
       "  <tbody>\n",
       "    <tr>\n",
       "      <th>0</th>\n",
       "      <td>1001</td>\n",
       "      <td>BUTTER WITH SALT</td>\n",
       "      <td>15.87</td>\n",
       "      <td>717</td>\n",
       "      <td>0.85</td>\n",
       "      <td>81.11</td>\n",
       "      <td>2.11</td>\n",
       "      <td>0.06</td>\n",
       "      <td>0.0</td>\n",
       "      <td>0.06</td>\n",
       "      <td>...</td>\n",
       "      <td>2499.0</td>\n",
       "      <td>684.0</td>\n",
       "      <td>2.32</td>\n",
       "      <td>1.5</td>\n",
       "      <td>60.0</td>\n",
       "      <td>7.0</td>\n",
       "      <td>51.368</td>\n",
       "      <td>21.021</td>\n",
       "      <td>3.043</td>\n",
       "      <td>215.0</td>\n",
       "    </tr>\n",
       "    <tr>\n",
       "      <th>1</th>\n",
       "      <td>1002</td>\n",
       "      <td>BUTTER WHIPPED WITH SALT</td>\n",
       "      <td>15.87</td>\n",
       "      <td>717</td>\n",
       "      <td>0.85</td>\n",
       "      <td>81.11</td>\n",
       "      <td>2.11</td>\n",
       "      <td>0.06</td>\n",
       "      <td>0.0</td>\n",
       "      <td>0.06</td>\n",
       "      <td>...</td>\n",
       "      <td>2499.0</td>\n",
       "      <td>684.0</td>\n",
       "      <td>2.32</td>\n",
       "      <td>1.5</td>\n",
       "      <td>60.0</td>\n",
       "      <td>7.0</td>\n",
       "      <td>50.489</td>\n",
       "      <td>23.426</td>\n",
       "      <td>3.012</td>\n",
       "      <td>219.0</td>\n",
       "    </tr>\n",
       "    <tr>\n",
       "      <th>2</th>\n",
       "      <td>1003</td>\n",
       "      <td>BUTTER OIL ANHYDROUS</td>\n",
       "      <td>0.24</td>\n",
       "      <td>876</td>\n",
       "      <td>0.28</td>\n",
       "      <td>99.48</td>\n",
       "      <td>0.00</td>\n",
       "      <td>0.00</td>\n",
       "      <td>0.0</td>\n",
       "      <td>0.00</td>\n",
       "      <td>...</td>\n",
       "      <td>3069.0</td>\n",
       "      <td>840.0</td>\n",
       "      <td>2.80</td>\n",
       "      <td>1.8</td>\n",
       "      <td>73.0</td>\n",
       "      <td>8.6</td>\n",
       "      <td>61.924</td>\n",
       "      <td>28.732</td>\n",
       "      <td>3.694</td>\n",
       "      <td>256.0</td>\n",
       "    </tr>\n",
       "    <tr>\n",
       "      <th>3</th>\n",
       "      <td>1004</td>\n",
       "      <td>CHEESE BLUE</td>\n",
       "      <td>42.41</td>\n",
       "      <td>353</td>\n",
       "      <td>21.40</td>\n",
       "      <td>28.74</td>\n",
       "      <td>5.11</td>\n",
       "      <td>2.34</td>\n",
       "      <td>0.0</td>\n",
       "      <td>0.50</td>\n",
       "      <td>...</td>\n",
       "      <td>721.0</td>\n",
       "      <td>198.0</td>\n",
       "      <td>0.25</td>\n",
       "      <td>0.5</td>\n",
       "      <td>21.0</td>\n",
       "      <td>2.4</td>\n",
       "      <td>18.669</td>\n",
       "      <td>7.778</td>\n",
       "      <td>0.800</td>\n",
       "      <td>75.0</td>\n",
       "    </tr>\n",
       "    <tr>\n",
       "      <th>4</th>\n",
       "      <td>1005</td>\n",
       "      <td>CHEESE BRICK</td>\n",
       "      <td>41.11</td>\n",
       "      <td>371</td>\n",
       "      <td>23.24</td>\n",
       "      <td>29.68</td>\n",
       "      <td>3.18</td>\n",
       "      <td>2.79</td>\n",
       "      <td>0.0</td>\n",
       "      <td>0.51</td>\n",
       "      <td>...</td>\n",
       "      <td>1080.0</td>\n",
       "      <td>292.0</td>\n",
       "      <td>0.26</td>\n",
       "      <td>0.5</td>\n",
       "      <td>22.0</td>\n",
       "      <td>2.5</td>\n",
       "      <td>18.764</td>\n",
       "      <td>8.598</td>\n",
       "      <td>0.784</td>\n",
       "      <td>94.0</td>\n",
       "    </tr>\n",
       "  </tbody>\n",
       "</table>\n",
       "<p>5 rows × 36 columns</p>\n",
       "</div>"
      ],
      "text/plain": [
       "   NDB_No                 Shrt_Desc  Water_(g)  Energ_Kcal  Protein_(g)  \\\n",
       "0    1001          BUTTER WITH SALT      15.87         717         0.85   \n",
       "1    1002  BUTTER WHIPPED WITH SALT      15.87         717         0.85   \n",
       "2    1003      BUTTER OIL ANHYDROUS       0.24         876         0.28   \n",
       "3    1004               CHEESE BLUE      42.41         353        21.40   \n",
       "4    1005              CHEESE BRICK      41.11         371        23.24   \n",
       "\n",
       "   Lipid_Tot_(g)  Ash_(g)  Carbohydrt_(g)  Fiber_TD_(g)  Sugar_Tot_(g)  \\\n",
       "0          81.11     2.11            0.06           0.0           0.06   \n",
       "1          81.11     2.11            0.06           0.0           0.06   \n",
       "2          99.48     0.00            0.00           0.0           0.00   \n",
       "3          28.74     5.11            2.34           0.0           0.50   \n",
       "4          29.68     3.18            2.79           0.0           0.51   \n",
       "\n",
       "        ...        Vit_A_IU  Vit_A_RAE  Vit_E_(mg)  Vit_D_mcg  Vit_D_IU  \\\n",
       "0       ...          2499.0      684.0        2.32        1.5      60.0   \n",
       "1       ...          2499.0      684.0        2.32        1.5      60.0   \n",
       "2       ...          3069.0      840.0        2.80        1.8      73.0   \n",
       "3       ...           721.0      198.0        0.25        0.5      21.0   \n",
       "4       ...          1080.0      292.0        0.26        0.5      22.0   \n",
       "\n",
       "   Vit_K_(mcg)  FA_Sat_(g)  FA_Mono_(g)  FA_Poly_(g)  Cholestrl_(mg)  \n",
       "0          7.0      51.368       21.021        3.043           215.0  \n",
       "1          7.0      50.489       23.426        3.012           219.0  \n",
       "2          8.6      61.924       28.732        3.694           256.0  \n",
       "3          2.4      18.669        7.778        0.800            75.0  \n",
       "4          2.5      18.764        8.598        0.784            94.0  \n",
       "\n",
       "[5 rows x 36 columns]"
      ]
     },
     "execution_count": 5,
     "metadata": {},
     "output_type": "execute_result"
    }
   ],
   "source": [
    "import pandas as pd\n",
    "food_info = pd.read_csv( \"../data/food_info.csv\")\n",
    "food_info.head( 3 )"
   ]
  },
  {
   "cell_type": "code",
   "execution_count": 6,
   "metadata": {
    "collapsed": false
   },
   "outputs": [
    {
     "name": "stdout",
     "output_type": "stream",
     "text": [
      "['NDB_No', 'Shrt_Desc', 'Water_(g)', 'Energ_Kcal', 'Protein_(g)', 'Lipid_Tot_(g)', 'Ash_(g)', 'Carbohydrt_(g)', 'Fiber_TD_(g)', 'Sugar_Tot_(g)', 'Calcium_(mg)', 'Iron_(mg)', 'Magnesium_(mg)', 'Phosphorus_(mg)', 'Potassium_(mg)', 'Sodium_(mg)', 'Zinc_(mg)', 'Copper_(mg)', 'Manganese_(mg)', 'Selenium_(mcg)', 'Vit_C_(mg)', 'Thiamin_(mg)', 'Riboflavin_(mg)', 'Niacin_(mg)', 'Vit_B6_(mg)', 'Vit_B12_(mcg)', 'Vit_A_IU', 'Vit_A_RAE', 'Vit_E_(mg)', 'Vit_D_mcg', 'Vit_D_IU', 'Vit_K_(mcg)', 'FA_Sat_(g)', 'FA_Mono_(g)', 'FA_Poly_(g)', 'Cholestrl_(mg)']\n"
     ]
    }
   ],
   "source": [
    "col_names = food_info.columns.tolist()\n",
    "print( col_names )"
   ]
  },
  {
   "cell_type": "markdown",
   "metadata": {},
   "source": [
    "# 2. Transforming a Column\n",
    "\n",
    "We can use the arithmetic operators to transform a numerical column. The values in the \"Iron_(mg)\" column, for example, are currently in milligrams. We can divide each value by 1000 to convert the values to grams. The following code will divide each value in the \"Iron_(mg)\" column by 1000, and return a new Series object with those values:\n",
    "\n",
    "```\n",
    "div_1000 = food_info[\"Iron_(mg)\"] / 1000\n",
    "```\n",
    "\n",
    "pandas allows us to use any of the arithmetic operators to scale the values in a numerical column:\n",
    "\n",
    "Adds 100 to each value in the column and returns a Series object.\n",
    "\n",
    "```\n",
    "add_100 = food_info[\"Iron_(mg)\"] + 100\n",
    "```\n",
    "\n",
    "\n",
    "Subtracts 100 from each value in the column and returns a Series object.\n",
    "\n",
    "```\n",
    "sub_100 = food_info[\"Iron_(mg)\"] - 100\n",
    "```\n",
    "\n",
    "Multiplies each value in the column by 2 and returns a Series object.\n",
    "\n",
    "```\n",
    "mult_2 = food_info[\"Iron_(mg)\"]*2\n",
    "```\n",
    "\n",
    "## Instructions\n",
    "\n",
    "Divide the \"Sodium_(mg)\" column by 1000 to convert the values to grams, and assign the result to sodium_grams.\n",
    "Multiply the \"Sugar_Tot_(g)\" column by 1000 to convert to milligrams, and assign the result to sugar_milligrams.\n"
   ]
  },
  {
   "cell_type": "code",
   "execution_count": 7,
   "metadata": {
    "collapsed": true
   },
   "outputs": [],
   "source": [
    "sodium_grams = food_info[\"Sodium_(mg)\"] / 1000\n",
    "sugar_milligrams = food_info[\"Sugar_Tot_(g)\"] * 1000"
   ]
  },
  {
   "cell_type": "markdown",
   "metadata": {},
   "source": [
    "# 3: Performing Math with Multiple Columns\n",
    "\n",
    "In addition to transforming columns by numerical values, we can transform columns by other columns. When we use an arithmetic operator between two columns (Series objects), pandas will perform that computation in a pair-wise fashion, and return a new Series object. It applies the arithmetic operator to the first value in both columns, the second value in both columns, and so on.\n",
    "\n",
    "In the following code, we multiply the \"Water_(g)\" column by the \"Energ_Kcal\" column, and assign the resulting Series to water_energy:\n",
    "\n",
    "```\n",
    "water_energy = food_info[\"Water_(g)\"] * food_info[\"Energ_Kcal\"]\n",
    "```\n",
    "\n",
    "## Instructions\n",
    "\n",
    "Assign the number of grams of protein per gram of water (\"Protein_(g)\" column divided by \"Water_(g)\" column) to grams_of_protein_per_gram_of_water.\n",
    "\n",
    "Assign the total amount of calcium and iron (\"Calcium_(mg)\" column plus \"Iron_(mg)\" column) to milligrams_of_calcium_and_iron.\n"
   ]
  },
  {
   "cell_type": "code",
   "execution_count": 9,
   "metadata": {
    "collapsed": false
   },
   "outputs": [],
   "source": [
    "grams_of_protein_per_gram_of_water =food_info[\"Protein_(g)\"]/food_info[\"Water_(g)\"] \n",
    "milligrams_of_calcium_and_iron = food_info[\"Calcium_(mg)\"]+food_info[\"Iron_(mg)\"]"
   ]
  },
  {
   "cell_type": "markdown",
   "metadata": {},
   "source": [
    "# 4. Create a Nutritional Index\n",
    "\n",
    "Now that we've learned how to transform columns with a numerical value and how to combine columns, we can use the following formula to create a nutritional index:\n",
    "\n",
    "## Instructions\n",
    "\n",
    "Multiply the \"Protein_(g)\" column by two, and assign the resulting Series to weighted_protein.\n",
    "Multiply the \"Lipid_Tot_(g)\" column by -0.75, and assign the resulting Series to weighted_fat.\n",
    "Add both Series objects together and assign the result to initial_rating.\n"
   ]
  },
  {
   "cell_type": "code",
   "execution_count": 11,
   "metadata": {
    "collapsed": false
   },
   "outputs": [
    {
     "name": "stdout",
     "output_type": "stream",
     "text": [
      "0   -59.1325\n",
      "1   -59.1325\n",
      "2   -74.0500\n",
      "3    21.2450\n",
      "4    24.2200\n",
      "dtype: float64\n"
     ]
    }
   ],
   "source": [
    "weighted_protein = food_info[\"Protein_(g)\"]*2\n",
    "weighted_fat = food_info[\"Lipid_Tot_(g)\"]*0.75\n",
    "initial_rating = weighted_protein - weighted_fat\n",
    "print ( initial_rating[0:5] )"
   ]
  },
  {
   "cell_type": "markdown",
   "metadata": {},
   "source": [
    "# 5: Normalizing Columns in a Data Set\n",
    "\n",
    "The columns in the data set use different units (kilo-calories, milligrams, etc.). As a result, the range of values varies greatly between columns. For example, the \"Vit_A_IU\" column ranges from 0 to 100000, while the \"Fiber_TD_(g)\" column ranges from 0 to 79. For certain calculations, columns like \"Vit_A_IU\" can have a greater effect on the result, due to the scale of the values.\n",
    "\n",
    "While there are many ways to normalize data, one of the simplest ways is to divide all of the values in a column by that column's maximum value. This way, all of the columns will range from 0 to 1. To calculate the maximum value of a column, we use the Series.max() method. In the following code, we use the Series.max() method to calculate the largest value in the \"Energ_Kcal\" column, and assign it to max_calories:\n",
    "\n",
    "The largest value in the \"Energ_Kcal\" column.\n",
    "\n",
    "```\n",
    "max_calories = food_info[\"Energ_Kcal\"].max()\n",
    "```\n",
    "\n",
    "We can then use the division operator (/) to divide the values in the \"Energ_Kcal\" column by the maximum value, max_calories:\n",
    "\n",
    "Divide the values in \"Energ_Kcal\" by the largest value.\n",
    "\n",
    "```\n",
    "normalized_calories = food_info[\"Energ_Kcal\"] / max_calories\n",
    "```\n",
    "\n",
    "Instructions\n",
    "\n",
    "Normalize the values in the \"Protein_(g)\" column, and assign the result to normalized_protein.\n",
    "\n",
    "Normalize the values in the \"Lipid_Tot_(g)\" column, and assign the result to normalized_fat."
   ]
  },
  {
   "cell_type": "code",
   "execution_count": 14,
   "metadata": {
    "collapsed": false
   },
   "outputs": [],
   "source": [
    "max_protein = food_info[\"Protein_(g)\"].max()\n",
    "max_fat = food_info[\"Lipid_Tot_(g)\"].max()\n",
    "\n",
    "normalized_protein = food_info[\"Protein_(g)\"] / max_protein\n",
    "normalized_fat = food_info[\"Lipid_Tot_(g)\"] / max_fat"
   ]
  },
  {
   "cell_type": "markdown",
   "metadata": {},
   "source": [
    "# 6: Creating a New Column\n",
    "\n",
    "So far, we've assigned the Series object that results from a column transform to a variable. However, we can add it to the DataFrame as a new column instead.\n",
    "\n",
    "We add bracket notation to specify the name we want for that column, then use the assignment operator (=) to specify the Series object containing the values we want to assign to that column:\n",
    "\n",
    "```\n",
    "iron_grams = food_info[\"Iron_(mg)\"] / 1000  \n",
    "\n",
    "food_info[\"Iron_(g)\"] = iron_grams\n",
    "```\n",
    "\n",
    "The DataFrame food_info now includes the \"Iron_(g)\" column, which contains the values from iron_grams.\n",
    "Instructions\n",
    "\n",
    "Assign the normalized \"Protein_(g)\" column to a new column named \"Normalized_Protein\" in food_info.\n",
    "Assign the normalized \"Lipid_Tot_(g)\" column to a new column named \"Normalized_Fat\" in food_info.\n"
   ]
  },
  {
   "cell_type": "code",
   "execution_count": 15,
   "metadata": {
    "collapsed": true
   },
   "outputs": [],
   "source": [
    "food_info[\"Normalized_Protein\"] = normalized_protein\n",
    "food_info[\"Normalized_Fat\"] = normalized_fat"
   ]
  },
  {
   "cell_type": "markdown",
   "metadata": {},
   "source": [
    "# 7: Create a Normalized Nutritional Index\n",
    "\n",
    "Combining what you've learned so far, you can now create a nutritional index that uses the normalized fat and protein values, instead of the original values.\n",
    "\n",
    "Here's the formula for reference:\n",
    "\n",
    "Instructions\n",
    "\n",
    "Use the Normalized_Protein and Normalized_Fat columns with the formula above to create the Norm_Nutr_Index column.\n"
   ]
  },
  {
   "cell_type": "code",
   "execution_count": 16,
   "metadata": {
    "collapsed": true
   },
   "outputs": [],
   "source": [
    "food_info[\"Normalized_Protein\"] = food_info[\"Protein_(g)\"] / food_info[\"Protein_(g)\"].max()\n",
    "food_info[\"Normalized_Fat\"] = food_info[\"Lipid_Tot_(g)\"] / food_info[\"Lipid_Tot_(g)\"].max()\n",
    "\n",
    "nor_protein = food_info[\"Normalized_Protein\"]*2\n",
    "nor_fat = food_info[\"Normalized_Fat\"]*0.75\n",
    "nor_rating = nor_protein - nor_fat \n",
    "\n",
    "food_info[\"Norm_Nutr_Index\"] = nor_rating"
   ]
  },
  {
   "cell_type": "markdown",
   "metadata": {},
   "source": [
    "# 8: Sorting a DataFrame by a Column\n",
    "\n",
    "The DataFrame currently appears in numerical order according to the NDB_No column. NDB_No is a unique USDA identifier that isn't really useful for our needs. To explore which foods rank the highest in the Norm_Nutr_Index column, we need to sort the DataFrame by that column. DataFrame objects have a sort_values() method that we can use to sort the entire DataFrame.\n",
    "\n",
    "To sort the DataFrame on the Sodium_(mg) column, pass in the column name to the DataFrame.sort_values() method, and assign the resulting DataFrame to a new variable:\n",
    "\n",
    "```\n",
    "food_info.sort_values(\"Sodium_(mg)\")\n",
    "```\n",
    "\n",
    "By default, pandas will sort the data by the column we specify in ascending order and return a new DataFrame, rather than modifying food_info itself. To customize the method's behavior, use the parameters listed in the documentation:\n",
    "\n",
    "Sorts the DataFrame in-place, rather than returning a new DataFrame.\n",
    "\n",
    "```\n",
    "food_info.sort_values(\"Sodium_(mg)\", inplace=True)\n",
    "```\n",
    "\n",
    " Sorts by descending order, rather than ascending.\n",
    "\n",
    "```\n",
    "food_info.sort_values(\"Sodium_(mg)\", inplace=True, ascending=False)\n",
    "```\n",
    "\n",
    "## Instructions\n",
    "\n",
    "Sort the food_info DataFrame in-place on the Norm_Nutr_Index column in descending order.\n"
   ]
  },
  {
   "cell_type": "code",
   "execution_count": 17,
   "metadata": {
    "collapsed": true
   },
   "outputs": [],
   "source": [
    "food_info.sort_values(\"Norm_Nutr_Index\", inplace=True, ascending=False)"
   ]
  },
  {
   "cell_type": "code",
   "execution_count": 19,
   "metadata": {
    "collapsed": false
   },
   "outputs": [
    {
     "data": {
      "text/html": [
       "<div>\n",
       "<table border=\"1\" class=\"dataframe\">\n",
       "  <thead>\n",
       "    <tr style=\"text-align: right;\">\n",
       "      <th></th>\n",
       "      <th>NDB_No</th>\n",
       "      <th>Shrt_Desc</th>\n",
       "      <th>Water_(g)</th>\n",
       "      <th>Energ_Kcal</th>\n",
       "      <th>Protein_(g)</th>\n",
       "      <th>Lipid_Tot_(g)</th>\n",
       "      <th>Ash_(g)</th>\n",
       "      <th>Carbohydrt_(g)</th>\n",
       "      <th>Fiber_TD_(g)</th>\n",
       "      <th>Sugar_Tot_(g)</th>\n",
       "      <th>...</th>\n",
       "      <th>Vit_D_mcg</th>\n",
       "      <th>Vit_D_IU</th>\n",
       "      <th>Vit_K_(mcg)</th>\n",
       "      <th>FA_Sat_(g)</th>\n",
       "      <th>FA_Mono_(g)</th>\n",
       "      <th>FA_Poly_(g)</th>\n",
       "      <th>Cholestrl_(mg)</th>\n",
       "      <th>Normalized_Protein</th>\n",
       "      <th>Normalized_Fat</th>\n",
       "      <th>Norm_Nutr_Index</th>\n",
       "    </tr>\n",
       "  </thead>\n",
       "  <tbody>\n",
       "    <tr>\n",
       "      <th>4991</th>\n",
       "      <td>16423</td>\n",
       "      <td>SOY PROT ISOLATE K TYPE CRUDE PROT BASIS</td>\n",
       "      <td>4.98</td>\n",
       "      <td>321</td>\n",
       "      <td>88.32</td>\n",
       "      <td>0.53</td>\n",
       "      <td>3.58</td>\n",
       "      <td>2.59</td>\n",
       "      <td>2.0</td>\n",
       "      <td>0.0</td>\n",
       "      <td>...</td>\n",
       "      <td>0.0</td>\n",
       "      <td>0.0</td>\n",
       "      <td>0.0</td>\n",
       "      <td>0.066</td>\n",
       "      <td>0.101</td>\n",
       "      <td>0.258</td>\n",
       "      <td>0.0</td>\n",
       "      <td>1.000000</td>\n",
       "      <td>0.0053</td>\n",
       "      <td>1.996025</td>\n",
       "    </tr>\n",
       "    <tr>\n",
       "      <th>6155</th>\n",
       "      <td>19177</td>\n",
       "      <td>GELATINS DRY PDR UNSWTND</td>\n",
       "      <td>13.00</td>\n",
       "      <td>335</td>\n",
       "      <td>85.60</td>\n",
       "      <td>0.10</td>\n",
       "      <td>1.30</td>\n",
       "      <td>0.00</td>\n",
       "      <td>0.0</td>\n",
       "      <td>0.0</td>\n",
       "      <td>...</td>\n",
       "      <td>0.0</td>\n",
       "      <td>0.0</td>\n",
       "      <td>0.0</td>\n",
       "      <td>0.070</td>\n",
       "      <td>0.060</td>\n",
       "      <td>0.010</td>\n",
       "      <td>0.0</td>\n",
       "      <td>0.969203</td>\n",
       "      <td>0.0010</td>\n",
       "      <td>1.937656</td>\n",
       "    </tr>\n",
       "  </tbody>\n",
       "</table>\n",
       "<p>2 rows × 39 columns</p>\n",
       "</div>"
      ],
      "text/plain": [
       "      NDB_No                                 Shrt_Desc  Water_(g)  Energ_Kcal  \\\n",
       "4991   16423  SOY PROT ISOLATE K TYPE CRUDE PROT BASIS       4.98         321   \n",
       "6155   19177                  GELATINS DRY PDR UNSWTND      13.00         335   \n",
       "\n",
       "      Protein_(g)  Lipid_Tot_(g)  Ash_(g)  Carbohydrt_(g)  Fiber_TD_(g)  \\\n",
       "4991        88.32           0.53     3.58            2.59           2.0   \n",
       "6155        85.60           0.10     1.30            0.00           0.0   \n",
       "\n",
       "      Sugar_Tot_(g)       ...         Vit_D_mcg  Vit_D_IU  Vit_K_(mcg)  \\\n",
       "4991            0.0       ...               0.0       0.0          0.0   \n",
       "6155            0.0       ...               0.0       0.0          0.0   \n",
       "\n",
       "      FA_Sat_(g)  FA_Mono_(g)  FA_Poly_(g)  Cholestrl_(mg)  \\\n",
       "4991       0.066        0.101        0.258             0.0   \n",
       "6155       0.070        0.060        0.010             0.0   \n",
       "\n",
       "      Normalized_Protein  Normalized_Fat  Norm_Nutr_Index  \n",
       "4991            1.000000          0.0053         1.996025  \n",
       "6155            0.969203          0.0010         1.937656  \n",
       "\n",
       "[2 rows x 39 columns]"
      ]
     },
     "execution_count": 19,
     "metadata": {},
     "output_type": "execute_result"
    }
   ],
   "source": [
    "food_info.head( 2 )"
   ]
  },
  {
   "cell_type": "code",
   "execution_count": null,
   "metadata": {
    "collapsed": true
   },
   "outputs": [],
   "source": []
  }
 ],
 "metadata": {
  "kernelspec": {
   "display_name": "Python 2",
   "language": "python",
   "name": "python2"
  },
  "language_info": {
   "codemirror_mode": {
    "name": "ipython",
    "version": 2
   },
   "file_extension": ".py",
   "mimetype": "text/x-python",
   "name": "python",
   "nbconvert_exporter": "python",
   "pygments_lexer": "ipython2",
   "version": "2.7.13"
  }
 },
 "nbformat": 4,
 "nbformat_minor": 2
}
