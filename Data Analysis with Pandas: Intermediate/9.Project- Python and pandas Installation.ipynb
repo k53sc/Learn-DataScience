{
 "cells": [
  {
   "cell_type": "markdown",
   "metadata": {},
   "source": [
    "# 1: Introduction\n",
    "\n",
    "So far, you've been learning Python and pandas through our interactive, browser-based environment. In this project, we'll walk you through installing the same tools on your own computer. If you get stuck, here are a few things you can try:\n",
    "\n",
    "    Search Google and StackOverflow for the error message you received and debug the issue yourself.\n",
    "    Post to Dataquest's Slack community. Use the #setup channel for all installation-related questions.\n",
    "    Post in our forum, and a Dataquest employee or another student will get back to you.\n",
    "\n",
    "At Dataquest, we teach all of our lessons using Python 3, which is the third major release of the Python programming language. To install Python 3 and the data science libraries we can use with it, we'll use a package manager named Anaconda. Head to the Anaconda downloads page and scroll down until you find the section for your operating system (Windows or Mac). We won't cover the full installation instructions for Linux because there are many different flavors of it. We will point you to relevant external links along the way, though.\n",
    "\n",
    "You'll need to choose from a few different options:\n",
    "\n",
    "    Python 2.x and Python 3.x\n",
    "    32 bit and 64 bit\n",
    "    Command line vs graphical installer (except for Linux)\n",
    "\n",
    "As of this writing, Python 3.5 is the most recent version of Python 3, and that's the one we'll use. There are options for both 32-bit and 64-bit, which refer to a computer's instruction set. To find out which instruction set your computer has, click on the relevant link below:\n",
    "\n",
    "    Windows\n",
    "    Mac\n",
    "\n",
    "Download the graphical installer that matches the most recent version of Python 3 and your operating system. The graphical installer is similar to other installers you may have used in the past to install your Web browser, a text editor, or even Microsoft Office products. You interact with them visually by pointing and clicking in a graphical user interface (GUI).\n",
    "\n",
    "If you're not sure which installer to download, select the one for your operating system that matches the following criteria:\n",
    "\n",
    "    Python 3.x installer\n",
    "    64-bit\n",
    "    Graphical installer (if available); otherwise, use the command line installer\n",
    "\n",
    "If you're on Mac or Windows, launch the Anaconda graphical installer you just downloaded, accept the default options, and complete the setup process. You can read about the process at the installation documentation page.\n",
    "\n",
    "Unfortunately, Linux doesn't have a graphical installer for Anaconda. You can only install it using the command line - a user interface for interacting with a computer via text commands. This used to be the only way to interact with computers before the rise of modern monitors. You can find the command line instructions for installing Anaconda on Linux at the Anaconda installation documentation page.\n"
   ]
  },
  {
   "cell_type": "markdown",
   "metadata": {},
   "source": [
    "# 2: Experiment With the Command Line\n",
    "\n",
    "Today, we almost always use a GUI to interact with applications visually, instead of through text. For many programming tasks, however, you'll need to use the command line environment.\n",
    "\n",
    "For example, to test your Anaconda installation on Windows and Mac or to install Anaconda on Linux, you'll need a basic understanding of this environment. In this project, we'll only cover the concepts required to install the tools you need. We explore the environment in much more depth in our command line courses.\n",
    "\n",
    "The command line application is called Terminal on Linux and Mac; it's called Command Prompt on Windows. Launch either Terminal or Command Prompt on your computer. To test your installation, type python3 and press Enter. The output should resemble the following:\n",
    "\n",
    "Imgur\n",
    "\n",
    "The >>>symbols at the start of the line indicate that you're now in interactive mode. This mode allows you to write a line of Python code and press Enter to see the output. Try it out!\n",
    "\n",
    "    Type a = 1\n",
    "    Press Enter\n",
    "    Type print(a)\n",
    "    Press Enter\n",
    "\n",
    "Once you've experimented with these steps, type exit() and press the Enter key to exit interactive mode."
   ]
  },
  {
   "cell_type": "markdown",
   "metadata": {},
   "source": [
    "# 3: Test Your Installation with the Conda Command\n",
    "\n",
    "To verify that the Anaconda package manager has installed properly, type conda in your command line environment. You should see output information on the library. If you don't see the expected output, use StackOverflow and our Slack community to get help.\n",
    "\n",
    "Anaconda comes with several packages for scientific computing. You can see the full list of libraries here.http://docs.continuum.io/anaconda/pkg-docs For example, it automatically installs libraries like pandas and Matplotlib. You can verify that you have them by launching interactive mode (using the command python3) and importing the libraries."
   ]
  },
  {
   "cell_type": "markdown",
   "metadata": {},
   "source": [
    "# 4: Write Python Code With Jupyter Notebook\n",
    "\n",
    "Jupyter Notebook is an in-browser, notebook-based interface for writing and running Python code. We use it to create our content at Dataquest. Its design also influenced our mission interface.\n",
    "\n",
    "To launch the notebook, enter the following:\n",
    "\n",
    "    jupyter notebook\n",
    "\n",
    "Running this command will automatically send you to the Jupyter Notebook landing page in your default Web browser. In the top right corner, you'll see a text box named New. Click on that box, then look for Python 3 under the Notebooks section. Click on Python 3 to open a new notebook.\n",
    "\n",
    "Jupyter Notebook used to be called IPython Notebook, so you may see some references to that name in Stack Overflow threads and other Internet resources."
   ]
  },
  {
   "cell_type": "markdown",
   "metadata": {},
   "source": [
    "# 5: Next Steps\n",
    "\n",
    "Now that you've installed Jupyter Notebook and gotten it up and running, write some code in a code cell, then press Shift + Enter to see the result. Try going through some of the courses you've already completed on Dataquest, but write code that explores the data sets and concepts further this time. What's wonderful about Jupyter Notebook is how easily you can let your curiosity drive your exploration, and the direct connection you have with your interactive coding environment."
   ]
  },
  {
   "cell_type": "code",
   "execution_count": null,
   "metadata": {
    "collapsed": true
   },
   "outputs": [],
   "source": []
  }
 ],
 "metadata": {
  "kernelspec": {
   "display_name": "Python 2",
   "language": "python",
   "name": "python2"
  },
  "language_info": {
   "codemirror_mode": {
    "name": "ipython",
    "version": 2
   },
   "file_extension": ".py",
   "mimetype": "text/x-python",
   "name": "python",
   "nbconvert_exporter": "python",
   "pygments_lexer": "ipython2",
   "version": "2.7.13"
  }
 },
 "nbformat": 4,
 "nbformat_minor": 2
}
