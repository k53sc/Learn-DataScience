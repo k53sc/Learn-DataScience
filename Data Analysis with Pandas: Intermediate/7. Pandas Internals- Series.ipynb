{
 "cells": [
  {
   "cell_type": "markdown",
   "metadata": {},
   "source": [
    "# 1: Data Structures\n",
    "\n",
    "Over the next two missions, we'll dive into some of pandas' internals to better understand how it does things under the hood.\n",
    "\n",
    "The three key data structures in pandas are:\n",
    "\n",
    "    Series objects (collections of values)\n",
    "    DataFrames (collections of Series objects)\n",
    "    Panels (collections of DataFrame objects)\n",
    "\n",
    "We'll focus on the Series object in this mission.\n",
    "\n",
    "Series objects use NumPy arrays for fast computation, but add valuable features to them for analyzing data. While NumPy arrays use an integer index, for example, Series objects can use other index types, such as a string index. Series objects also allow for mixed data types, and use the NaN Python value for handling missing values.\n",
    "\n",
    "A Series object can hold many data types, including:\n",
    "\n",
    "    float - For float values\n",
    "    int - For integer values\n",
    "    bool - For Boolean values\n",
    "    datetime64[ns] - For date & time, without time zone\n",
    "    datetime64[ns, tz] - For date & time, with time zone\n",
    "    timedelta[ns] - For representing differences in dates & times (seconds, minutes, etc.)\n",
    "    category - For categorical values\n",
    "    object - For string values\n",
    "\n",
    "Before we go into further depth, let's introduce the data set we'll be working with. The FiveThirtyEight team recently released a data set containing scores for all movies that have substantive user and critic reviews on IMDB, Rotten Tomatoes, Metacritic, and Fandango. We'll be working with the file fandango_score_comparison.csv, which you can download from their Github repository. Here are some of the columns in the data set:\n",
    "\n",
    "    FILM - Film name\n",
    "    RottenTomatoes - Average critic score on Rotten Tomatoes\n",
    "    RottenTomatoes_User - Average user score on Rotten Tomatoes\n",
    "    RT_norm - Average critic score on Rotten Tomatoes (normalized to a 0 to 5-point system)\n",
    "    RT_user-norm - Average user score on Rotten Tomatoes (normalized to a 0 to 5-point system)\n",
    "    Metacritic - Average critic score on Metacritic\n",
    "    Metacritic_User - Average user score on Metacritic\n",
    "\n",
    "The full list of columns, along with their descriptions, is available on the Github repository.\n",
    "\n",
    "## Instructions\n",
    "\n",
    "    Use the pd.read_csv() function to read \"fandango_score_comparison.csv\" into a DataFrame object called fandango.\n",
    "    Then, use the .head() method to print the first two rows.\n"
   ]
  },
  {
   "cell_type": "code",
   "execution_count": 1,
   "metadata": {
    "collapsed": false
   },
   "outputs": [
    {
     "data": {
      "text/html": [
       "<div>\n",
       "<table border=\"1\" class=\"dataframe\">\n",
       "  <thead>\n",
       "    <tr style=\"text-align: right;\">\n",
       "      <th></th>\n",
       "      <th>FILM</th>\n",
       "      <th>RottenTomatoes</th>\n",
       "      <th>RottenTomatoes_User</th>\n",
       "      <th>Metacritic</th>\n",
       "      <th>Metacritic_User</th>\n",
       "      <th>IMDB</th>\n",
       "      <th>Fandango_Stars</th>\n",
       "      <th>Fandango_Ratingvalue</th>\n",
       "      <th>RT_norm</th>\n",
       "      <th>RT_user_norm</th>\n",
       "      <th>...</th>\n",
       "      <th>IMDB_norm</th>\n",
       "      <th>RT_norm_round</th>\n",
       "      <th>RT_user_norm_round</th>\n",
       "      <th>Metacritic_norm_round</th>\n",
       "      <th>Metacritic_user_norm_round</th>\n",
       "      <th>IMDB_norm_round</th>\n",
       "      <th>Metacritic_user_vote_count</th>\n",
       "      <th>IMDB_user_vote_count</th>\n",
       "      <th>Fandango_votes</th>\n",
       "      <th>Fandango_Difference</th>\n",
       "    </tr>\n",
       "  </thead>\n",
       "  <tbody>\n",
       "    <tr>\n",
       "      <th>0</th>\n",
       "      <td>Avengers: Age of Ultron (2015)</td>\n",
       "      <td>74</td>\n",
       "      <td>86</td>\n",
       "      <td>66</td>\n",
       "      <td>7.1</td>\n",
       "      <td>7.8</td>\n",
       "      <td>5.0</td>\n",
       "      <td>4.5</td>\n",
       "      <td>3.70</td>\n",
       "      <td>4.3</td>\n",
       "      <td>...</td>\n",
       "      <td>3.90</td>\n",
       "      <td>3.5</td>\n",
       "      <td>4.5</td>\n",
       "      <td>3.5</td>\n",
       "      <td>3.5</td>\n",
       "      <td>4.0</td>\n",
       "      <td>1330</td>\n",
       "      <td>271107</td>\n",
       "      <td>14846</td>\n",
       "      <td>0.5</td>\n",
       "    </tr>\n",
       "    <tr>\n",
       "      <th>1</th>\n",
       "      <td>Cinderella (2015)</td>\n",
       "      <td>85</td>\n",
       "      <td>80</td>\n",
       "      <td>67</td>\n",
       "      <td>7.5</td>\n",
       "      <td>7.1</td>\n",
       "      <td>5.0</td>\n",
       "      <td>4.5</td>\n",
       "      <td>4.25</td>\n",
       "      <td>4.0</td>\n",
       "      <td>...</td>\n",
       "      <td>3.55</td>\n",
       "      <td>4.5</td>\n",
       "      <td>4.0</td>\n",
       "      <td>3.5</td>\n",
       "      <td>4.0</td>\n",
       "      <td>3.5</td>\n",
       "      <td>249</td>\n",
       "      <td>65709</td>\n",
       "      <td>12640</td>\n",
       "      <td>0.5</td>\n",
       "    </tr>\n",
       "  </tbody>\n",
       "</table>\n",
       "<p>2 rows × 22 columns</p>\n",
       "</div>"
      ],
      "text/plain": [
       "                             FILM  RottenTomatoes  RottenTomatoes_User  \\\n",
       "0  Avengers: Age of Ultron (2015)              74                   86   \n",
       "1               Cinderella (2015)              85                   80   \n",
       "\n",
       "   Metacritic  Metacritic_User  IMDB  Fandango_Stars  Fandango_Ratingvalue  \\\n",
       "0          66              7.1   7.8             5.0                   4.5   \n",
       "1          67              7.5   7.1             5.0                   4.5   \n",
       "\n",
       "   RT_norm  RT_user_norm         ...           IMDB_norm  RT_norm_round  \\\n",
       "0     3.70           4.3         ...                3.90            3.5   \n",
       "1     4.25           4.0         ...                3.55            4.5   \n",
       "\n",
       "   RT_user_norm_round  Metacritic_norm_round  Metacritic_user_norm_round  \\\n",
       "0                 4.5                    3.5                         3.5   \n",
       "1                 4.0                    3.5                         4.0   \n",
       "\n",
       "   IMDB_norm_round  Metacritic_user_vote_count  IMDB_user_vote_count  \\\n",
       "0              4.0                        1330                271107   \n",
       "1              3.5                         249                 65709   \n",
       "\n",
       "   Fandango_votes  Fandango_Difference  \n",
       "0           14846                  0.5  \n",
       "1           12640                  0.5  \n",
       "\n",
       "[2 rows x 22 columns]"
      ]
     },
     "execution_count": 1,
     "metadata": {},
     "output_type": "execute_result"
    }
   ],
   "source": [
    "import pandas as pd\n",
    "fandango = pd.read_csv( \"../data/fandango_score_comparison.csv\" )\n",
    "fandango.head( 2 )"
   ]
  },
  {
   "cell_type": "markdown",
   "metadata": {},
   "source": [
    "# 2: Integer Indexes\n",
    "\n",
    "DataFrames use Series objects to represent columns. When we select a single column from a DataFrame, pandas will return the Series object representing that column. By default, pandas indexes each individual Series object in a DataFrame with the integer data type. Each value in the Series has a unique integer index, or position. Like most Python data structures, the Series object uses 0-indexing. The indexing ranges from 0 to n-1, where n is the number of rows. We can use an integer index to select an individual value in a Series if we know its position.\n",
    "\n",
    "With both NumPy arrays and Series objects, we can pass integer indexes into bracket notation to slice and select values. With Series objects, however, we can also specify custom indexes.\n",
    "\n",
    "To explore this idea further, let's use two Series objects representing the film names and Rotten Tomatoes scores.\n",
    "\n",
    "## Instructions\n",
    "\n",
    "    Select the FILM column, assign it to the variable series_film, and print the first five values.\n",
    "    Then, select the RottenTomatoes column, assign it to the variable series_rt, and print the first five values.\n"
   ]
  },
  {
   "cell_type": "code",
   "execution_count": 2,
   "metadata": {
    "collapsed": false
   },
   "outputs": [
    {
     "name": "stdout",
     "output_type": "stream",
     "text": [
      "0    Avengers: Age of Ultron (2015)\n",
      "1                 Cinderella (2015)\n",
      "2                    Ant-Man (2015)\n",
      "3            Do You Believe? (2015)\n",
      "4     Hot Tub Time Machine 2 (2015)\n",
      "Name: FILM, dtype: object\n",
      "0    74\n",
      "1    85\n",
      "2    80\n",
      "3    18\n",
      "4    14\n",
      "Name: RottenTomatoes, dtype: int64\n"
     ]
    }
   ],
   "source": [
    "series_film = fandango[\"FILM\"]\n",
    "print( series_film[0:5] )\n",
    "series_rt = fandango[\"RottenTomatoes\"]\n",
    "print( series_rt[0:5] )"
   ]
  },
  {
   "cell_type": "markdown",
   "metadata": {},
   "source": [
    "# 3: Custom Indexes\n",
    "\n",
    "Both of these Series objects use the same integer indexes. This means that the value at index 5, for example, would describe the same film in both Series objects (The Water Diviner (2015)). To look up information about a specific movie, we would need to know its integer index.\n",
    "\n",
    "If we only had these two Series objects and wanted to look up the Rotten Tomatoes scores for Minions (2015) and Leviathan (2014), we'd have to:\n",
    "\n",
    "    Find the integer index corresponding to Minions (2015) in series_film\n",
    "    Look up the value at that integer index from series_rt\n",
    "    Find the integer index corresponding to Leviathan (2014) in series_film\n",
    "    Look up the value at that integer index from series_rt\n",
    "\n",
    "This becomes especially cumbersome as we scale up the problem to look for a larger number of movies. What we really want is a way to retrieve the Rotten Tomatoes scores for many movies at the same time with just one command (and one Series object). To accomplish this, we need to move away from using integer indexes, and use string indexes corresponding to the film names instead. Then we can pass in a list of strings matching the film names to retrieve the scores, like so:\n",
    "\n",
    "series_custom[['Minions (2015)', 'Leviathan (2014)']]\n",
    "\n",
    "Instructions\n",
    "\n",
    "    Create a new Series object named series_custom that has a string index (based on the values from film_names), and contains all of the Rotten Tomatoes scores from series_rt.\n",
    "        To create a new Series object:\n",
    "            Import Series from pandas.\n",
    "            Instantiate a new Series object, which takes in a data parameter and an index parameter. See the documentation for help.\n",
    "            Both of these parameters need to be lists.\n"
   ]
  },
  {
   "cell_type": "code",
   "execution_count": 3,
   "metadata": {
    "collapsed": true
   },
   "outputs": [],
   "source": [
    "# Import the Series object from pandas\n",
    "from pandas import Series\n",
    "\n",
    "film_names = series_film.values\n",
    "rt_scores = series_rt.values\n",
    "\n",
    "series_custom = Series( index=film_names, data=rt_scores  )  "
   ]
  },
  {
   "cell_type": "markdown",
   "metadata": {
    "collapsed": true
   },
   "source": [
    "# 4: Integer Index Preservation\n",
    "\n",
    "Even though we specified that the Series object uses a custom string index, the object still has an internal integer index that we can use for selection. When it comes to indexes, Series objects act like both dictionaries and lists. We can access values with our custom index (like the keys in a dictionary), or the integer index (like the index in a list).\n",
    "\n",
    "## Instructions\n",
    "\n",
    "    Assign the values in series_custom at indexes 5 through 10 to the variable fiveten. Then, print fiveten to verify that you can still use integer values for selection.\n"
   ]
  },
  {
   "cell_type": "code",
   "execution_count": 7,
   "metadata": {
    "collapsed": false
   },
   "outputs": [
    {
     "name": "stdout",
     "output_type": "stream",
     "text": [
      "The Water Diviner (2015)             63\n",
      "Irrational Man (2015)                42\n",
      "Top Five (2014)                      86\n",
      "Shaun the Sheep Movie (2015)         99\n",
      "Love & Mercy (2015)                  89\n",
      "Far From The Madding Crowd (2015)    84\n",
      "dtype: int64\n"
     ]
    }
   ],
   "source": [
    "series_custom = Series(rt_scores , index=film_names)\n",
    "\n",
    "# this will have the rt_socre of the two movies\n",
    "series_custom[['Minions (2015)', 'Leviathan (2014)']]\n",
    "\n",
    "fiveten = series_custom[5:11]\n",
    "print (  fiveten )"
   ]
  },
  {
   "cell_type": "markdown",
   "metadata": {},
   "source": [
    "# 5: Reindexing\n",
    "\n",
    "Reindexing is the pandas way of modifying the alignment between labels (indexes) and the data (values). The reindex() method allows us to specify a different order for the labels (indexes) in a Series object. This method takes in a list of strings corresponding to the order we'd like for that Series object.\n",
    "\n",
    "We can use the reindex() method to sort series_custom alphabetically by film. To accomplish this, we need to:\n",
    "\n",
    "    Return a list representation of the current index using tolist().\n",
    "    Sort the index with sorted().\n",
    "    Use reindex() to set the newly-ordered index.\n",
    "\n",
    "The following code cell contains the logic for accomplishing the first task. We'll leave it up to you to finish the rest.\n",
    "\n",
    "## Instructions\n",
    "\n",
    "    The list original_index contains the original index. Sort this index using the Python 3 core method sorted(), then pass the result in to the Series method reindex().\n",
    "    Store the result in a variable named sorted_by_index.\n"
   ]
  },
  {
   "cell_type": "code",
   "execution_count": 29,
   "metadata": {
    "collapsed": false
   },
   "outputs": [],
   "source": [
    "# a list containing index\n",
    "original_index = series_custom.index\n",
    "# sort it\n",
    "sort_index = sorted ( original_index )\n",
    "# create a new series with a new sorted_index \n",
    "sorted_by_index = Series.reindex(  series_custom, sort_index )"
   ]
  },
  {
   "cell_type": "markdown",
   "metadata": {},
   "source": [
    "# 6: Sorting\n",
    "\n",
    "We just learned how to sort a Series object by the index using the reindex() method. This can be cumbersome if we just want to do some quick exploratory data analysis, or reorder by rating instead of film name.\n",
    "\n",
    "To make sorting easier, pandas comes with a sort_index() method that sorts a Series by index, and a sort_values() method that sorts a Series by its values. Since the values representing the Rotten Tomatoes scores are integers, sorting by values will return the data in numerically ascending order (low to high).\n",
    "\n",
    "In both cases, pandas preserves the link between each element's index (film name) and value (score). We call this data alignment, which is a key tenet of pandas that's incredibly important when analyzing data. Pandas allows us to assume the linking will be preserved, unless we specifically change a value or an index.\n",
    "\n",
    "## Instructions\n",
    "\n",
    "    Sort series_custom by index using sort_index(), and assign the result to the variable sc2.\n",
    "    Sort series_custom by values, and assign the result to the variable sc3.\n",
    "    Finally, print the first 10 values in sc2 and the first 10 values in sc3.\n"
   ]
  },
  {
   "cell_type": "code",
   "execution_count": 30,
   "metadata": {
    "collapsed": false
   },
   "outputs": [
    {
     "name": "stdout",
     "output_type": "stream",
     "text": [
      "0    0\n",
      "1    1\n",
      "2    2\n",
      "3    3\n",
      "4    4\n",
      "5    5\n",
      "6    6\n",
      "7    7\n",
      "8    8\n",
      "9    9\n",
      "dtype: int64\n",
      "0    0\n",
      "1    1\n",
      "2    2\n",
      "3    3\n",
      "4    4\n",
      "5    5\n",
      "6    6\n",
      "7    7\n",
      "8    8\n",
      "9    9\n",
      "dtype: int64\n"
     ]
    }
   ],
   "source": [
    "sc2 = series_custom.sort_index()\n",
    "sc3 = series_custom.sort_values()\n",
    "print ( sc2[0:10] )\n",
    "print ( sc3[0:10] ) "
   ]
  },
  {
   "cell_type": "markdown",
   "metadata": {},
   "source": [
    "# 7: Transforming Columns With Vectorized Operations\n",
    "\n",
    "A column is really a vector of values. For this reason, we often want to transform an entire column in a data set. Series objects offer robust support for vectorized operations, which enable us to run computations over an entire column very quickly.\n",
    "\n",
    "Since pandas builds on NumPy, it takes advantage of NumPy's vectorizaton capabilities. These capabilities generate incredibly optimized, low level code in the C programming language to loop over the values. Using a traditional for loop would be much slower, especially for large data sets.\n",
    "\n",
    "We can use any of the standard Python arithmetic operators (+, -, *, and /) to transform each of the values in a Series object. If we wanted to transform the Rotten Tomatoes scores from a 100-point scale to a 10-point scale, for example, we could use the Python division operator (/) to divide the Series by 10:\n",
    "\n",
    "    series_custom/10\n",
    "\n",
    "This will return a new Series object where each value is 1/10 of the original value. We can even use NumPy functions to transform and run calculations over Series objects:\n",
    "\n",
    "### Add each value with each other\n",
    "\n",
    "    np.add(series_custom, series_custom)\n",
    "\n",
    "### Apply sine function to each value\n",
    "\n",
    "    np.sin(series_custom)\n",
    "\n",
    "### Return the highest value (will return a single value, not a Series)\n",
    "\n",
    "    np.max(series_custom)\n",
    "\n",
    "The values in a Series object are part of an ndarray, the core data type in NumPy. Applying some NumPy functions to a Series object will return a new Series object, while other functions will return a single value. NumPy's documentation http://docs.scipy.org/doc/numpy/reference/generated/numpy.sin.html#numpy.sin gives us a good sense of the return value for each function. If a particular NumPy function usually returns an ndarray, it will return a Series object instead when we apply it to a Series.\n",
    "\n",
    "The original DataFrame contains the column RT_norm, which represents a normalized score (from 0 to 5) of the Rotten Tomatoes average critic score. Let's use vectorized operations to normalize series_custom back to the 0-5 scale.\n",
    "\n",
    "## Instructions\n",
    "\n",
    "    Normalize series_custom (which is currently on a 0 to 100-point scale) to a 0 to 5-point scale by dividing each value by 20.\n",
    "\n",
    "    Assign the new normalized Series object to series_normalized.\n"
   ]
  },
  {
   "cell_type": "code",
   "execution_count": 36,
   "metadata": {
    "collapsed": false
   },
   "outputs": [
    {
     "data": {
      "text/plain": [
       "Avengers: Age of Ultron (2015)    3.70\n",
       "Cinderella (2015)                 4.25\n",
       "Ant-Man (2015)                    4.00\n",
       "Do You Believe? (2015)            0.90\n",
       "Hot Tub Time Machine 2 (2015)     0.70\n",
       "dtype: float64"
      ]
     },
     "execution_count": 36,
     "metadata": {},
     "output_type": "execute_result"
    }
   ],
   "source": [
    "series_custom = Series( index=film_names, data=rt_scores  ) \n",
    "series_normalized = series_custom/20\n",
    "series_normalized[0:5]"
   ]
  },
  {
   "cell_type": "markdown",
   "metadata": {},
   "source": [
    "# 8: Comparing and Filtering\n",
    "\n",
    "Pandas uses vectorized operations for many tasks, such as filtering values within a single Series object and comparing two different Series objects. For example, to find all films with an average critic rating of 50 or above on Rotten Tomatoes, running:\n",
    "\n",
    "    series_custom > 50\n",
    "\n",
    "will actually return a Series object with a Boolean value for each film. That's because pandas applies the filter (> 50) to each value in the Series object. To retrieve the actual film names, we need to pass this Boolean series into the original Series object.\n",
    "\n",
    "    series_greater_than_50 = series_custom[series_custom > 50]\n",
    "\n",
    "Pandas returns Boolean Series objects that serve as intermediate representations of the logic. These objects make it easier to separate complex logic into modular pieces. We can specify filtering criteria in different variables, then chain them together with the and operator (&) or the or operator (|). Finally, we can use a Series object's bracket notation to pass in an expression representing a Boolean Series object and get back the filtered data set.\n",
    "Instructions\n",
    "\n",
    "    In the following code cell, the criteria_one and criteria_two statements return Boolean Series objects.\n",
    "    Return a filtered Series object named both_criteria that only contains the values where both criteria are true. Use bracket notation and the & operator to obtain this Series object.\n"
   ]
  },
  {
   "cell_type": "code",
   "execution_count": 38,
   "metadata": {
    "collapsed": false
   },
   "outputs": [
    {
     "data": {
      "text/plain": [
       "Avengers: Age of Ultron (2015)    74\n",
       "The Water Diviner (2015)          63\n",
       "Unbroken (2014)                   51\n",
       "Southpaw (2015)                   59\n",
       "Insidious: Chapter 3 (2015)       59\n",
       "The Man From U.N.C.L.E. (2015)    68\n",
       "Run All Night (2015)              60\n",
       "5 Flights Up (2015)               52\n",
       "Welcome to Me (2015)              71\n",
       "Saint Laurent (2015)              51\n",
       "dtype: int64"
      ]
     },
     "execution_count": 38,
     "metadata": {},
     "output_type": "execute_result"
    }
   ],
   "source": [
    "criteria_one = series_custom > 50\n",
    "criteria_two = series_custom < 75\n",
    "both_criteria = series_custom[ ( criteria_one ) & ( criteria_two ) ]\n",
    "both_criteria[0:10]"
   ]
  },
  {
   "cell_type": "markdown",
   "metadata": {},
   "source": [
    "# 9: Alignment\n",
    "\n",
    "One of pandas' core tenets is data alignment. Series objects align along indices, and DataFrame objects align along both indices and columns. With Series objects, pandas implicitly preserves the link between the index labels and the values across operations and transformations, unless we explicitly break it. With DataFrame objects, the values link to the index labels and the column labels. Pandas also preserves these links, unless we explicitly break them (by reassigning or editing a column or index label, for example).\n",
    "\n",
    "This core tenet allows us to use pandas effectively when working with data, and offers a big advantage over using NumPy objects. For Series objects in particular, this means we can use the standard Python arithmetic operators (+, -, *, and /) to add, subtract, multiply, and divide the values at each index label for two different Series objects.\n",
    "\n",
    "Let's use this functionality to calculate the mean ratings from both critics and users on Rotten Tomatoes.\n",
    "\n",
    "## Instructions\n",
    "\n",
    "    rt_critics and rt_users are Series objects containing the average ratings from critics and users for each film.\n",
    "    Both Series objects use the same custom string index, which they base on the film names. Use the Python arithmetic operators to return a new Series object, rt_mean, that contains the mean ratings from both critics and users for each film."
   ]
  },
  {
   "cell_type": "code",
   "execution_count": 43,
   "metadata": {
    "collapsed": false
   },
   "outputs": [],
   "source": [
    "import numpy as np\n",
    "rt_critics = Series(fandango['RottenTomatoes'].values, index=fandango['FILM'])\n",
    "rt_users = Series(fandango['RottenTomatoes_User'].values, index=fandango['FILM'])\n",
    "\n",
    "rt_mean = ( rt_critics + rt_users )/2"
   ]
  },
  {
   "cell_type": "code",
   "execution_count": null,
   "metadata": {
    "collapsed": true
   },
   "outputs": [],
   "source": []
  }
 ],
 "metadata": {
  "kernelspec": {
   "display_name": "Python 2",
   "language": "python",
   "name": "python2"
  },
  "language_info": {
   "codemirror_mode": {
    "name": "ipython",
    "version": 2
   },
   "file_extension": ".py",
   "mimetype": "text/x-python",
   "name": "python",
   "nbconvert_exporter": "python",
   "pygments_lexer": "ipython2",
   "version": "2.7.13"
  }
 },
 "nbformat": 4,
 "nbformat_minor": 2
}
