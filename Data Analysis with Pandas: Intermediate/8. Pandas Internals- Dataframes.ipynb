{
 "cells": [
  {
   "cell_type": "markdown",
   "metadata": {},
   "source": [
    "# 1: Shared Indexes\n",
    "\n",
    "Dataframe objects can easily query and interact with many columns. They represent each of these columns as a Series object. We discussed how Series objects work in the previous mission. In this mission, we'll learn how dataframes build on Series objects to provide a powerful data analysis toolkit.\n",
    "\n",
    "Series objects maintain data alignment between values and their index labels. Because dataframes are basically collections of Series objects, they maintain alignment along both columns and rows.\n",
    "\n",
    "Pandas dataframe share a row index across columns. By default, this is an integer index. Pandas enforces this shared row index by throwing an error if we read in a CSV file with columns that contain a different number of elements.\n",
    "\n",
    "Whenever you call a method that returns or prints a dataframe, the index values (such as a sequence of integers) appear in the leftmost column. You can also use the index attribute to access the index values directly. For this mission, we'll continue to work with the data set containing average user and critic ratings from the major film review sites. FiveThirtyEight compiled the data set and made it available in their Github repository.\n",
    "\n",
    "## Instructions\n",
    "\n",
    "    Read fandango_score_comparison.csv into a dataframe named fandango.\n",
    "    Use the head method to return the first two rows in the dataframe, then display them with the print function.\n",
    "    Use the index attribute to return the index of the dataframe, and display it with the print function.\n"
   ]
  },
  {
   "cell_type": "code",
   "execution_count": 2,
   "metadata": {
    "collapsed": false
   },
   "outputs": [
    {
     "name": "stdout",
     "output_type": "stream",
     "text": [
      "RangeIndex(start=0, stop=146, step=1)\n"
     ]
    }
   ],
   "source": [
    "import pandas as pd\n",
    "fandango = pd.read_csv( \"../data/fandango_score_comparison.csv\")\n",
    "print( fandango.index )"
   ]
  },
  {
   "cell_type": "markdown",
   "metadata": {},
   "source": [
    "# 2: Using Integer Indexes to Select Rows\n",
    "\n",
    "In the previous cell, we explored the default integer index that pandas uses for the dataframe. With Series, each unique index value refers to a data value. With dataframes, however, each index value refers to an entire row. We can use the integer index to select rows in a few different ways:\n",
    "\n",
    "First five rows\n",
    "\n",
    "    fandango[0:5]\n",
    "\n",
    "From row at 140 and higher\n",
    "\n",
    "    fandango[140:]\n",
    "\n",
    "Just row at index 50\n",
    "\n",
    "    fandango.iloc[50]\n",
    "\n",
    "Just row at index 45 and 90\n",
    "\n",
    "    fandango.iloc[[45,90]]\n",
    "\n",
    "We use bracket notation to select a slice (continuous sequence) of rows, just as we would for a list. To select an individual row, however, we'll need to use the iloc[] method. This method accepts the following objects for selection:\n",
    "\n",
    "    An integer\n",
    "    A list of integers\n",
    "    A slice object\n",
    "    A Boolean array\n",
    "\n",
    "When selecting an individual row, pandas will return a Series object. When selecting multiple rows, it will return a subset of the original dataframe as a new dataframe.\n",
    "Instructions\n",
    "\n",
    "    Return a dataframe containing just the first and last rows, and assign it to first_last.\n"
   ]
  },
  {
   "cell_type": "code",
   "execution_count": 3,
   "metadata": {
    "collapsed": true
   },
   "outputs": [],
   "source": [
    "first_last = fandango.iloc[ [0,-1]]"
   ]
  },
  {
   "cell_type": "markdown",
   "metadata": {},
   "source": [
    "# 3: Using Custom Indexes\n",
    "\n",
    "The dataframe object has a set_index() method that allows us to pass in the name of the column we want pandas to use as the Dataframe index. By default, pandas will create a new dataframe, index it by the values in the column we specify, then drop that column. The set_index() method has a few parameters that allow us to tweak this behavior:\n",
    "\n",
    "    inplace: If set to True, this parameter will set the index for the current, \"live\" dataframe, instead of returning a new dataframe.\n",
    "    drop: If set to False, this parameter will keep the column we specified as the index, instead of dropping it.\n",
    "\n",
    "## Instructions\n",
    "\n",
    "    Use the pandas dataframe method set_index to assign the FILM column as the custom index for the dataframe. Also, specify that we don't want to drop the FILM column from the dataframe. We want to keep the original dataframe, so assign the new one to fandango_films.\n",
    "\n",
    "    Display the index for fandango_films using the index attribute and the print function.\n"
   ]
  },
  {
   "cell_type": "code",
   "execution_count": 5,
   "metadata": {
    "collapsed": false
   },
   "outputs": [
    {
     "name": "stdout",
     "output_type": "stream",
     "text": [
      "Index([u'Avengers: Age of Ultron (2015)', u'Cinderella (2015)',\n",
      "       u'Ant-Man (2015)', u'Do You Believe? (2015)',\n",
      "       u'Hot Tub Time Machine 2 (2015)', u'The Water Diviner (2015)',\n",
      "       u'Irrational Man (2015)', u'Top Five (2014)',\n",
      "       u'Shaun the Sheep Movie (2015)', u'Love & Mercy (2015)',\n",
      "       ...\n",
      "       u'The Woman In Black 2 Angel of Death (2015)', u'Danny Collins (2015)',\n",
      "       u'Spare Parts (2015)', u'Serena (2015)', u'Inside Out (2015)',\n",
      "       u'Mr. Holmes (2015)', u''71 (2015)', u'Two Days, One Night (2014)',\n",
      "       u'Gett: The Trial of Viviane Amsalem (2015)',\n",
      "       u'Kumiko, The Treasure Hunter (2015)'],\n",
      "      dtype='object', name=u'FILM', length=146)\n"
     ]
    }
   ],
   "source": [
    "fandango_films = fandango.set_index( \"FILM\", drop=False, inplace=False)\n",
    "print( fandango_films.index )"
   ]
  },
  {
   "cell_type": "markdown",
   "metadata": {},
   "source": [
    "# 4: Using a Custom Index for Selection\n",
    "\n",
    "Now that we have a custom index, we can select a row by film name instead of row number (which is the default integer index). We can select rows using the custom index by either:\n",
    "\n",
    "    Using the loc[] method (the same way we would the iloc[] method)\n",
    "    Creating a slice using bracket notation\n",
    "\n",
    "Slice using either bracket notation or loc[]\n",
    "\n",
    "    fandango_films[\"Avengers: Age of Ultron (2015)\":\"Hot Tub Time Machine 2 (2015)\"]\n",
    "    \n",
    "    fandango_films.loc[\"Avengers: Age of Ultron (2015)\":\"Hot Tub Time Machine 2 (2015)\"]\n",
    "\n",
    "\n",
    "Specific movie\n",
    "\n",
    "    fandango_films.loc['Kumiko, The Treasure Hunter (2015)']\n",
    "\n",
    "\n",
    "Selecting list of movies\n",
    "\n",
    "    movies = ['Kumiko, The Treasure Hunter (2015)', 'Do You Believe? (2015)', 'Ant-Man (2015)']\n",
    "\n",
    "    fandango_films.loc[movies]\n",
    "\n",
    "When we select multiple rows, pandas returns a dataframe. When we select an individual row, however, it returns a Series object instead. Either way, pandas will maintain the original integer index, even if we specify a custom index. That means we can still select by row number.\n",
    "\n",
    "## Instructions\n",
    "\n",
    "    Select the following movies from fandango_films (in the order in which they appear), and assign them to best_movies_ever:\n",
    "        \"The Lazarus Effect (2015)\"\n",
    "        \"Gett: The Trial of Viviane Amsalem (2015)\"\n",
    "        \"Mr. Holmes (2015)\"\n",
    "\n"
   ]
  },
  {
   "cell_type": "code",
   "execution_count": 6,
   "metadata": {
    "collapsed": true
   },
   "outputs": [],
   "source": [
    "sel_moves = [ \"The Lazarus Effect (2015)\", \"Gett: The Trial of Viviane Amsalem (2015)\", \"Mr. Holmes (2015)\" ]\n",
    "best_movies_ever = fandango_films.loc[ sel_moves ]"
   ]
  },
  {
   "cell_type": "markdown",
   "metadata": {},
   "source": [
    "# 5: Apply() Logic Over the Columns in a Dataframe\n",
    "\n",
    "Recall that a dataframe object represents both rows and columns as Series objects. The apply() method in pandas allows us to specify Python logic that we want to evaluate over the Series objects in a dataframe. Here are some examples of what we can accomplish using the apply() method:\n",
    "\n",
    "    Calculate the standard deviations for each numeric column\n",
    "    Lowercase all film names in the FILM column\n",
    "\n",
    "The apply() method requires us to pass in the vectorized operation we want to apply over each Series object. The method runs over the dataframe's columns by default, but we can use the axis parameter to change this (which we'll do later). If the vectorized operation usually returns a single value (such as the NumPy std() function), it will return a Series object containing the computed value for each column. If it usually returns a value for each element (such as multiplying or dividing by 2), it will transform all of the values and return them as a dataframe.\n",
    "\n",
    "In the following code cell, we select only the float columns, and assign the dataframe containing them to float_df. Then, we pass in the NumPy function std() as a lambda function to the dataframe method apply() in order to calculate the standard deviation of each column. Under the hood, pandas uses vectorized operations to apply the NumPy function for each iteration of the apply() method. It then returns a final Series object containing the standard deviations for each column (i.e., the film ratings)."
   ]
  },
  {
   "cell_type": "code",
   "execution_count": 8,
   "metadata": {
    "collapsed": false
   },
   "outputs": [
    {
     "name": "stdout",
     "output_type": "stream",
     "text": [
      "Metacritic_User               1.505529\n",
      "IMDB                          0.955447\n",
      "Fandango_Stars                0.538532\n",
      "Fandango_Ratingvalue          0.501106\n",
      "RT_norm                       1.503265\n",
      "RT_user_norm                  0.997787\n",
      "Metacritic_norm               0.972522\n",
      "Metacritic_user_nom           0.752765\n",
      "IMDB_norm                     0.477723\n",
      "RT_norm_round                 1.509404\n",
      "RT_user_norm_round            1.003559\n",
      "Metacritic_norm_round         0.987561\n",
      "Metacritic_user_norm_round    0.785412\n",
      "IMDB_norm_round               0.501043\n",
      "Fandango_Difference           0.152141\n",
      "dtype: float64\n"
     ]
    }
   ],
   "source": [
    "import numpy as np\n",
    "\n",
    "# returns the data types as a Series\n",
    "types = fandango_films.dtypes\n",
    "# filter data types to just floats, index attributes returns just column names\n",
    "float_columns = types[types.values == 'float64'].index\n",
    "# use bracket notation to filter columns to just float columns\n",
    "float_df = fandango_films[float_columns]\n",
    "\n",
    "# `x` is a Series object representing a column\n",
    "deviations = float_df.apply(lambda x: np.std(x))\n",
    "\n",
    "print(deviations)"
   ]
  },
  {
   "cell_type": "markdown",
   "metadata": {},
   "source": [
    "# 6: Apply() Logic Over Columns: Practice\n",
    "\n",
    "Recall that the NumPy std() method returns a single computed value when we apply it over a Series. In the previous code cell, the apply() method returned a single value for each column for this reason.\n",
    "\n",
    "If we use a NumPy function that returns a value for each element in a Series, we can transform all of the values in each column and return a dataframe with those new values instead. Here's an example:\n",
    "\n",
    "float_df.apply(lambda x: x*2)\n",
    "\n",
    "This will double each of the ratings in the float columns and return a new dataframe, instead of modifying the object in place.\n",
    "\n",
    "## Instructions\n",
    "\n",
    "    Use the apply() method on float_df to halve each value, and assign the result to halved_df. Then, print the first row.\n"
   ]
  },
  {
   "cell_type": "code",
   "execution_count": 10,
   "metadata": {
    "collapsed": false
   },
   "outputs": [
    {
     "name": "stdout",
     "output_type": "stream",
     "text": [
      "                                Metacritic_User  IMDB  Fandango_Stars  \\\n",
      "FILM                                                                    \n",
      "Avengers: Age of Ultron (2015)             3.55   3.9             2.5   \n",
      "\n",
      "                                Fandango_Ratingvalue  RT_norm  RT_user_norm  \\\n",
      "FILM                                                                          \n",
      "Avengers: Age of Ultron (2015)                  2.25     1.85          2.15   \n",
      "\n",
      "                                Metacritic_norm  Metacritic_user_nom  \\\n",
      "FILM                                                                   \n",
      "Avengers: Age of Ultron (2015)             1.65                1.775   \n",
      "\n",
      "                                IMDB_norm  RT_norm_round  RT_user_norm_round  \\\n",
      "FILM                                                                           \n",
      "Avengers: Age of Ultron (2015)       1.95           1.75                2.25   \n",
      "\n",
      "                                Metacritic_norm_round  \\\n",
      "FILM                                                    \n",
      "Avengers: Age of Ultron (2015)                   1.75   \n",
      "\n",
      "                                Metacritic_user_norm_round  IMDB_norm_round  \\\n",
      "FILM                                                                          \n",
      "Avengers: Age of Ultron (2015)                        1.75              2.0   \n",
      "\n",
      "                                Fandango_Difference  \n",
      "FILM                                                 \n",
      "Avengers: Age of Ultron (2015)                 0.25  \n"
     ]
    }
   ],
   "source": [
    "halved_df = float_df.apply(lambda x: x/2)\n",
    "print ( halved_df.head( 1 ) )"
   ]
  },
  {
   "cell_type": "markdown",
   "metadata": {},
   "source": [
    "# 7: Apply() Over Dataframe Rows\n",
    "\n",
    "So far we've used the default behavior of the apply() method, which operates over the columns in a Datframe. To apply a function over the rows in a dataframe (which pandas treats as Series objects), we need to set the axis parameter to 1. Applying over the rows allows us to do things like calculate the standard deviation of multiple column values for each movie:\n",
    "\n",
    "rt_mt_user = float_df[['RT_user_norm', 'Metacritic_user_nom']]\n",
    "\n",
    "rt_mt_user.apply(lambda x: np.std(x), axis=1)\n",
    "\n",
    "The code above filters the dataframe down to the two columns we want. Because std() returns a value for each iteration, it then returns a Series object containing the standard deviation of each movie's ratings from RT_user_norm and Metacritic_user_nom.\n",
    "\n",
    "## Instructions\n",
    "\n",
    "    Use the apply() method to calculate the average of each movie's values for RT_user_norm and Metacritic_user_nom, and assign the result to the variable rt_mt_means.\n",
    "    Display the first five values in rt_mt_means.\n"
   ]
  },
  {
   "cell_type": "code",
   "execution_count": 11,
   "metadata": {
    "collapsed": false
   },
   "outputs": [
    {
     "name": "stdout",
     "output_type": "stream",
     "text": [
      "FILM\n",
      "Avengers: Age of Ultron (2015)    3.925\n",
      "Cinderella (2015)                 3.875\n",
      "Ant-Man (2015)                    4.275\n",
      "Do You Believe? (2015)            3.275\n",
      "Hot Tub Time Machine 2 (2015)     1.550\n",
      "dtype: float64\n"
     ]
    }
   ],
   "source": [
    "rt_mt_user = float_df[['RT_user_norm', 'Metacritic_user_nom']]\n",
    "rt_mt_means = rt_mt_user.apply(lambda x: np.mean(x), axis=1)\n",
    "print(rt_mt_means[0:5])"
   ]
  },
  {
   "cell_type": "code",
   "execution_count": null,
   "metadata": {
    "collapsed": true
   },
   "outputs": [],
   "source": []
  }
 ],
 "metadata": {
  "kernelspec": {
   "display_name": "Python 2",
   "language": "python",
   "name": "python2"
  },
  "language_info": {
   "codemirror_mode": {
    "name": "ipython",
    "version": 2
   },
   "file_extension": ".py",
   "mimetype": "text/x-python",
   "name": "python",
   "nbconvert_exporter": "python",
   "pygments_lexer": "ipython2",
   "version": "2.7.13"
  }
 },
 "nbformat": 4,
 "nbformat_minor": 2
}
