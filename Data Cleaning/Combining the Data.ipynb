{
 "cells": [
  {
   "cell_type": "markdown",
   "metadata": {},
   "source": [
    "# 1: Introduction\n",
    "\n",
    "In the last mission, we began investigating possible relationships between SAT scores and demographic factors. In order to do this, we acquired several data sets about New York City public schools. We manipulated these data sets, and found that we could combine them all using the DBN column. All of the data sets are currently stored as keys in the data dictionary. Each individual data set is a pandas dataframe.\n",
    "\n",
    "In this mission, we'll clean the data a bit more, then combine it. Finally, we'll compute correlations and perform some analysis.\n",
    "\n",
    "The first thing we'll need to do in preparation for the merge is condense some of the data sets. In the last mission, we noticed that the values in the DBN column were unique in the sat_results data set. Other data sets like class_size had duplicate DBN values, however.\n",
    "\n",
    "We'll need to condense these data sets so that each value in the DBN column is unique. If not, we'll run into issues when it comes time to combine the data sets.\n",
    "\n",
    "While the main data set we want to analyze, sat_results, has unique DBN values for every high school in New York City, other data sets aren't as clean. A single row in the sat_results data set may match multiple columns in the class_size data set, for example. This situation will create problems, because we don't know which of the multiple entries in the class_size data set we should combine with the single matching entry in sat_results. Here's a diagram that illustrates the problem:\n",
    "\n",
    "<img src='cartesian_product.png'>\n",
    "\n",
    "In the diagram above, we can't just combine the rows from both data sets because there are several cases where multiple rows in class_size match a single row in sat_results.\n",
    "\n",
    "To resolve this issue, we'll condense the class_size, graduation, and demographics data sets so that each DBN is unique."
   ]
  },
  {
   "cell_type": "markdown",
   "metadata": {
    "collapsed": true
   },
   "source": [
    "# 2: Condensing the Class Size Data Set\n",
    "\n",
    "The first data set that we'll condense is class_size. The first few rows of class_size look like this:\n",
    "\t\n",
    "       CSD \tBOROUGH \tSCHOOL CODE \tSCHOOL NAME \tGRADE \tPROGRAM TYPE \tCORE SUBJECT (MS CORE and 9-12 ONLY) \tCORE COURSE (MS CORE and 9-12 ONLY) \tSERVICE CATEGORY(K-9* ONLY) \tNUMBER OF STUDENTS / SEATS FILLED \tNUMBER OF SECTIONS \tAVERAGE CLASS SIZE \tSIZE OF SMALLEST CLASS \tSIZE OF LARGEST CLASS \tDATA SOURCE \tSCHOOLWIDE PUPIL-TEACHER RATIO \tpadded_csd \tDBN\n",
    "    0 \t1 \tM \tM015 \tP.S. 015 Roberto Clemente \t0K \tGEN ED \t- \t- \t- \t19.0 \t1.0 \t19.0 \t19.0 \t19.0 \tATS \tNaN \t01 \t01M015\n",
    "    1 \t1 \tM \tM015 \tP.S. 015 Roberto Clemente \t0K \tCTT \t- \t- \t- \t21.0 \t1.0 \t21.0 \t21.0 \t21.0 \tATS \tNaN \t01 \t01M015\n",
    "    2 \t1 \tM \tM015 \tP.S. 015 Roberto Clemente \t01 \tGEN ED \t- \t- \t- \t17.0 \t1.0 \t17.0 \t17.0 \t17.0 \tATS \tNaN \t01 \t01M015\n",
    "    3 \t1 \tM \tM015 \tP.S. 015 Roberto Clemente \t01 \tCTT \t- \t- \t- \t17.0 \t1.0 \t17.0 \t17.0 \t17.0 \tATS \tNaN \t01 \t01M015\n",
    "    4 \t1 \tM \tM015 \tP.S. 015 Roberto Clemente \t02 \tGEN ED \t- \t- \t- \t15.0 \t1.0 \t15.0 \t15.0 \t15.0 \tATS \tNaN \t01 \t01M015\n",
    "\n",
    "As you can see, the first few rows all pertain to the same school, which is why the DBN appears more than once. It looks like each school has multiple values for GRADE, PROGRAM TYPE, CORE SUBJECT (MS CORE and 9-12 ONLY), and CORE COURSE (MS CORE and 9-12 ONLY).\n",
    "\n",
    "If we look at the unique values for GRADE, we get the following:\n",
    "\n",
    "    array(['0K', '01', '02', '03', '04', '05', '0K-09', nan, '06', '07', '08',\n",
    "\n",
    "       'MS Core', '09-12', '09'], dtype=object)\n",
    "\n",
    "Because we're dealing with high schools, we're only concerned with grades 9 through 12. That means we only want to pick rows where the value in the GRADE column is 09-12.\n",
    "\n",
    "If we look at the unique values for PROGRAM TYPE, we get the following:\n",
    "\n",
    "    array(['GEN ED', 'CTT', 'SPEC ED', nan, 'G&T'], dtype=object)\n",
    "\n",
    "Each school can have multiple program types. Because GEN ED is the largest category by far, let's only select rows where PROGRAM TYPE is GEN ED"
   ]
  },
  {
   "cell_type": "markdown",
   "metadata": {},
   "source": [
    "# 3: Condensing the Class Size Data Set\n",
    "\n",
    "## Instructions\n",
    "\n",
    "    Create a new variable called class_size, and assign the value of data[\"class_size\"] to it.\n",
    "    Filter class_size so the GRADE column only contains the value 09-12. Note that the name of the GRADE column has a space at the end; you'll generate an error if you don't include it.\n",
    "    Filter class_size so that the PROGRAM TYPE column only contains the value GEN ED.\n",
    "    Display the first five rows of class_size to verify.\n",
    "\n"
   ]
  },
  {
   "cell_type": "code",
   "execution_count": 6,
   "metadata": {
    "collapsed": true
   },
   "outputs": [],
   "source": [
    "import pandas as pd\n",
    "data_files = [\n",
    "    \"ap_2010.csv\",\n",
    "    \"class_size.csv\",\n",
    "    \"demographics.csv\",\n",
    "    \"graduation.csv\",\n",
    "    \"hs_directory.csv\",\n",
    "    \"sat_results.csv\"\n",
    "]\n",
    "data = {}\n",
    "\n",
    "for file in data_files:\n",
    "    df = pd.read_csv( \"../data/\" + file )\n",
    "    data[file.split( \".\" )[0]] = df\n",
    "    \n",
    "# normal string concatanation won't work here\n",
    "def pad_csd(num):\n",
    "    string_representation = str(num)\n",
    "    if len(string_representation) > 1:\n",
    "        return string_representation\n",
    "    else:\n",
    "        return string_representation.zfill(2)\n",
    "    \n",
    "\n",
    "data['hs_directory']['DBN'] = data['hs_directory']['dbn']\n",
    "\n",
    "data['class_size'][\"padded_csd\"] = data['class_size']['CSD'].apply( pad_csd )\n",
    "data['class_size'][\"DBN\"] = data['class_size'][\"padded_csd\"] + data['class_size'][\"SCHOOL CODE\"]"
   ]
  },
  {
   "cell_type": "code",
   "execution_count": 7,
   "metadata": {
    "collapsed": false
   },
   "outputs": [
    {
     "name": "stdout",
     "output_type": "stream",
     "text": [
      "     CSD BOROUGH SCHOOL CODE                                    SCHOOL NAME  \\\n",
      "225    1       M        M292  Henry Street School for International Studies   \n",
      "226    1       M        M292  Henry Street School for International Studies   \n",
      "227    1       M        M292  Henry Street School for International Studies   \n",
      "228    1       M        M292  Henry Street School for International Studies   \n",
      "229    1       M        M292  Henry Street School for International Studies   \n",
      "\n",
      "    GRADE  PROGRAM TYPE CORE SUBJECT (MS CORE and 9-12 ONLY)  \\\n",
      "225  09-12       GEN ED                              ENGLISH   \n",
      "226  09-12       GEN ED                              ENGLISH   \n",
      "227  09-12       GEN ED                              ENGLISH   \n",
      "228  09-12       GEN ED                              ENGLISH   \n",
      "229  09-12       GEN ED                                 MATH   \n",
      "\n",
      "    CORE COURSE (MS CORE and 9-12 ONLY) SERVICE CATEGORY(K-9* ONLY)  \\\n",
      "225                           English 9                           -   \n",
      "226                          English 10                           -   \n",
      "227                          English 11                           -   \n",
      "228                          English 12                           -   \n",
      "229                  Integrated Algebra                           -   \n",
      "\n",
      "     NUMBER OF STUDENTS / SEATS FILLED  NUMBER OF SECTIONS  \\\n",
      "225                               63.0                 3.0   \n",
      "226                               79.0                 3.0   \n",
      "227                               38.0                 2.0   \n",
      "228                               69.0                 3.0   \n",
      "229                               53.0                 3.0   \n",
      "\n",
      "     AVERAGE CLASS SIZE  SIZE OF SMALLEST CLASS  SIZE OF LARGEST CLASS  \\\n",
      "225                21.0                    19.0                   25.0   \n",
      "226                26.3                    24.0                   31.0   \n",
      "227                19.0                    16.0                   22.0   \n",
      "228                23.0                    13.0                   30.0   \n",
      "229                17.7                    16.0                   21.0   \n",
      "\n",
      "    DATA SOURCE  SCHOOLWIDE PUPIL-TEACHER RATIO padded_csd     DBN  \n",
      "225       STARS                             NaN         01  01M292  \n",
      "226       STARS                             NaN         01  01M292  \n",
      "227       STARS                             NaN         01  01M292  \n",
      "228       STARS                             NaN         01  01M292  \n",
      "229       STARS                             NaN         01  01M292  \n"
     ]
    }
   ],
   "source": [
    "class_size = data['class_size']\n",
    "class_size = class_size[ class_size['GRADE '] == '09-12']\n",
    "class_size = class_size[ class_size['PROGRAM TYPE'] == 'GEN ED']\n",
    "print( class_size.head( 5 ))"
   ]
  },
  {
   "cell_type": "markdown",
   "metadata": {},
   "source": [
    "# 4: Computing Average Class Sizes\n",
    "\n",
    "As we saw when we displayed class_size on the last screen, DBN still isn't completely unique. This is due to the CORE COURSE (MS CORE and 9-12 ONLY) and CORE SUBJECT (MS CORE and 9-12 ONLY) columns.\n",
    "\n",
    "CORE COURSE (MS CORE and 9-12 ONLY) and CORE SUBJECT (MS CORE and 9-12 ONLY) seem to pertain to different kinds of classes. For example, here are the unique values for CORE SUBJECT (MS CORE and 9-12 ONLY):\n",
    "\n",
    "    array(['ENGLISH', 'MATH', 'SCIENCE', 'SOCIAL STUDIES'], dtype=object)\n",
    "\n",
    "This column only seems to include certain subjects. We want our class size data to include every single class a school offers -- not just a subset of them. What we can do is take the average across all of the classes a school offers. This will give us unique DBN values, while also incorporating as much data as possible into the average.\n",
    "\n",
    "Fortunately, we can use the pandas.DataFrame.groupby() method to help us with this. The DataFrame.groupby() method will split a dataframe up into unique groups, based on a given column. We can then use the agg() method on the resulting pandas.core.groupby object to find the mean of each column.\n",
    "\n",
    "Let's say we have this data set:\n",
    "\n",
    "<img src='classize_table.png'>\n",
    "\n",
    "Using the groupby() method, we'll split this dataframe into four separate groups -- one with the DBN 01M292, one with the DBN 01M332, one with the DBN 01M378, and one with the DBN 01M448:\n",
    "\n",
    "<img src='classsize_agg.png'>\n",
    "\n",
    "Then, we can compute the averages for the AVERAGE CLASS SIZE column in each of the four groups using the agg() method:\n",
    "\n",
    "<img src='classsize_result.png'>\n",
    "\n",
    "After we group a dataframe and aggregate data based on it, the column we performed the grouping on (in this case DBN) will become the index, and will no longer appear as a column in the data itself. To undo this change and keep DBN as a column, we'll need to use pandas.DataFrame.reset_index(). This method will reset the index to a list of integers and make DBN a column again."
   ]
  },
  {
   "cell_type": "markdown",
   "metadata": {},
   "source": [
    "# 5: Computing Average Class Sizes\n",
    "\n",
    "## Instructions\n",
    "\n",
    "    Find the average values for each column associated with each DBN in class_size.\n",
    "        Use the pandas.DataFrame.groupby() method to group class_size by DBN.\n",
    "        Use the agg() method on the resulting pandas.core.groupby object, along with the numpy.mean() function as an argument, to calculate the average of each group.\n",
    "        Assign the result back to class_size.\n",
    "    Reset the index to make DBN a column again.\n",
    "        Use the pandas.DataFrame.reset_index() method, along with the keyword argument inplace=True.\n",
    "    Assign class_size back to the class_size key of the data dictionary.\n",
    "    Display the first few rows of data[\"class_size\"] to verify that everything went ok"
   ]
  },
  {
   "cell_type": "code",
   "execution_count": 14,
   "metadata": {
    "collapsed": false
   },
   "outputs": [],
   "source": [
    "import numpy\n",
    "test = class_size.groupby( 'DBN' )\n",
    "test.agg?"
   ]
  },
  {
   "cell_type": "code",
   "execution_count": null,
   "metadata": {
    "collapsed": true
   },
   "outputs": [],
   "source": []
  },
  {
   "cell_type": "code",
   "execution_count": null,
   "metadata": {
    "collapsed": true
   },
   "outputs": [],
   "source": []
  }
 ],
 "metadata": {
  "kernelspec": {
   "display_name": "Python 2",
   "language": "python",
   "name": "python2"
  },
  "language_info": {
   "codemirror_mode": {
    "name": "ipython",
    "version": 2
   },
   "file_extension": ".py",
   "mimetype": "text/x-python",
   "name": "python",
   "nbconvert_exporter": "python",
   "pygments_lexer": "ipython2",
   "version": "2.7.13"
  }
 },
 "nbformat": 4,
 "nbformat_minor": 2
}
